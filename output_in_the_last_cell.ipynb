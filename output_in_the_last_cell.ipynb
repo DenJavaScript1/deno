{
 "cells": [
  {
   "cell_type": "code",
   "execution_count": 1,
   "id": "f84352c6-396a-4ca1-8c0d-454d56cb6ed6",
   "metadata": {},
   "outputs": [
    {
     "data": {},
     "execution_count": 1,
     "metadata": {},
     "output_type": "execute_result"
    },
    {
     "name": "stdout",
     "output_type": "stream",
     "text": [
      "Hello from Deno!\n"
     ]
    }
   ],
   "source": [
    "console.log(\"Hello from Deno!\")"
   ]
  },
  {
   "cell_type": "code",
   "execution_count": 2,
   "id": "be38548f-1d0c-43a0-93aa-184e8199cf1a",
   "metadata": {},
   "outputs": [
    {
     "data": {},
     "execution_count": 2,
     "metadata": {},
     "output_type": "execute_result"
    }
   ],
   "source": [
    "console.log(\"%c Hello Deno \", \"background-color: #15803d; color: white;\");"
   ]
  },
  {
   "cell_type": "code",
   "execution_count": 3,
   "id": "ba55dcd1-d519-4aed-8013-8c9af3289c1d",
   "metadata": {},
   "outputs": [
    {
     "data": {
      "text/plain": [
       "\u001b[32m\"Cool 🫡\"\u001b[39m"
      ]
     },
     "execution_count": 3,
     "metadata": {},
     "output_type": "execute_result"
    }
   ],
   "source": [
    "\"Cool 🫡\""
   ]
  },
  {
   "cell_type": "code",
   "execution_count": 4,
   "id": "546b4612-9501-4841-b06e-7988f8041ec2",
   "metadata": {},
   "outputs": [
    {
     "data": {},
     "execution_count": 4,
     "metadata": {},
     "output_type": "execute_result"
    }
   ],
   "source": [
    "console.table([1, 2, 3])"
   ]
  },
  {
   "cell_type": "code",
   "execution_count": 5,
   "id": "d0461ec4-3327-4222-9868-129dc7dd43ec",
   "metadata": {},
   "outputs": [
    {
     "data": {
      "text/plain": [
       "\u001b[33m3\u001b[39m"
      ]
     },
     "execution_count": 5,
     "metadata": {},
     "output_type": "execute_result"
    },
    {
     "name": "stdout",
     "output_type": "stream",
     "text": [
      "\u001b[48;2;21;128;61m\u001b[37m Hello Deno \u001b[0m\n",
      "┌───────┬────────┐\n",
      "│ (idx) │ Values │\n",
      "├───────┼────────┤\n",
      "│     0 │      1 │\n",
      "│     1 │      2 │\n",
      "│     2 │      3 │\n",
      "└───────┴────────┘\n"
     ]
    }
   ],
   "source": [
    "3"
   ]
  }
 ],
 "metadata": {
  "kernelspec": {
   "display_name": "Deno",
   "language": "typescript",
   "name": "deno"
  },
  "language_info": {
   "file_extension": ".ts",
   "mimetype": "text/x.typescript",
   "name": "typescript",
   "nb_converter": "script",
   "pygments_lexer": "typescript",
   "version": "5.2.2"
  }
 },
 "nbformat": 4,
 "nbformat_minor": 5
}
