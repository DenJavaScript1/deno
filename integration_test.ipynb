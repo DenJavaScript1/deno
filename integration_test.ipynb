{
 "cells": [
  {
   "cell_type": "markdown",
   "id": "182aef1d",
   "metadata": {},
   "source": [
    "# Integration Tests for Deno Jupyter\n",
    "This notebook contains a number of tests to ensure that Jupyter is working as expected. You should be able to select \"Kernel->Restart and Run All\" in Jupyter's notebook UI to run the tests. The first section of tests named \"Passing Tests\" should pass. The second set of tests \"Failing Tests\" should fail. When in doubt, refer to the currently committed notebook file to make sure tests pass."
   ]
  },
  {
   "cell_type": "markdown",
   "id": "d7705d88",
   "metadata": {},
   "source": [
    "## Passing Tests"
   ]
  },
  {
   "cell_type": "markdown",
   "id": "669f972e",
   "metadata": {},
   "source": [
    "### Simple Tests"
   ]
  },
  {
   "cell_type": "markdown",
   "id": "e7e8a512",
   "metadata": {},
   "source": [
    "#### This test should print \"hi\".\n",
    "If this doesn't work, everything else will probably fail :)"
   ]
  },
  {
   "cell_type": "code",
   "execution_count": null,
   "id": "a5d38758",
   "metadata": {},
   "outputs": [
    {
     "name": "stdout",
     "output_type": "stream",
     "text": [
      "hi\n"
     ]
    }
   ],
   "source": [
    "console.log(\"hi\")"
   ]
  },
  {
   "cell_type": "markdown",
   "id": "bc5ce8e3",
   "metadata": {},
   "source": [
    "#### Top-level await"
   ]
  },
  {
   "cell_type": "code",
   "execution_count": 3,
   "id": "f7fa885a",
   "metadata": {},
   "outputs": [
    {
     "name": "stdout",
     "output_type": "stream",
     "text": [
      "x is \u001b[33m42\u001b[39m\n"
     ]
    }
   ],
   "source": [
    "let x = await Promise.resolve(42);\n",
    "console.log(\"x is\", x);"
   ]
  },
  {
   "cell_type": "markdown",
   "id": "c21455ae",
   "metadata": {},
   "source": [
    "#### TypeScript transpiling\n",
    "Credit to [typescriptlang.org](https://www.typescriptlang.org/docs/handbook/interfaces.html) for this code"
   ]
  },
  {
   "cell_type": "code",
   "execution_count": 5,
   "id": "08a17340",
   "metadata": {},
   "outputs": [
    {
     "data": {
      "text/plain": [
       "{ color: \u001b[32m\"red\"\u001b[39m, area: \u001b[33m10000\u001b[39m }"
      ]
     },
     "execution_count": 5,
     "metadata": {},
     "output_type": "execute_result"
    }
   ],
   "source": [
    "interface SquareConfig {\n",
    "  color?: string;\n",
    "  width?: number;\n",
    "}\n",
    " \n",
    "function createSquare(config: SquareConfig): { color: string; area: number } {\n",
    "  return {\n",
    "    color: config.color || \"red\",\n",
    "    area: config.width ? config.width * config.width : 20,\n",
    "  };\n",
    "}\n",
    " \n",
    "createSquare({ colour: \"red\", width: 100 });"
   ]
  },
  {
   "cell_type": "markdown",
   "id": "eaa0ebc0",
   "metadata": {},
   "source": [
    "### Return Values"
   ]
  },
  {
   "cell_type": "markdown",
   "id": "52876276",
   "metadata": {},
   "source": [
    "#### undefined should not return a value"
   ]
  },
  {
   "cell_type": "code",
   "execution_count": 3,
   "id": "bbf2c09b",
   "metadata": {},
   "outputs": [],
   "source": [
    "undefined"
   ]
  },
  {
   "cell_type": "markdown",
   "id": "e175c803",
   "metadata": {},
   "source": [
    "#### null should return \"null\""
   ]
  },
  {
   "cell_type": "code",
   "execution_count": 13,
   "id": "d9801d80",
   "metadata": {},
   "outputs": [
    {
     "data": {
      "application/json": null,
      "text/plain": [
       "null"
      ]
     },
     "execution_count": 13,
     "metadata": {},
     "output_type": "execute_result"
    }
   ],
   "source": [
    "null"
   ]
  },
  {
   "cell_type": "markdown",
   "id": "a2a716dc",
   "metadata": {},
   "source": [
    "#### boolean should return the boolean"
   ]
  },
  {
   "cell_type": "code",
   "execution_count": 6,
   "id": "cfaac330",
   "metadata": {},
   "outputs": [
    {
     "data": {
      "application/json": true,
      "text/plain": [
       "true"
      ]
     },
     "execution_count": 6,
     "metadata": {},
     "output_type": "execute_result"
    }
   ],
   "source": [
    "true"
   ]
  },
  {
   "cell_type": "markdown",
   "id": "8d9f1aba",
   "metadata": {},
   "source": [
    "#### number should return the number"
   ]
  },
  {
   "cell_type": "code",
   "execution_count": 7,
   "id": "ec3be2da",
   "metadata": {},
   "outputs": [
    {
     "data": {
      "application/json": 42,
      "text/plain": [
       "42"
      ]
     },
     "execution_count": 7,
     "metadata": {},
     "output_type": "execute_result"
    }
   ],
   "source": [
    "42"
   ]
  },
  {
   "cell_type": "markdown",
   "id": "60965915",
   "metadata": {},
   "source": [
    "#### string should return the string"
   ]
  },
  {
   "cell_type": "code",
   "execution_count": 8,
   "id": "997cf2d7",
   "metadata": {},
   "outputs": [
    {
     "data": {
      "application/json": "this is a test of the emergency broadcast system",
      "text/plain": [
       "this is a test of the emergency broadcast system"
      ]
     },
     "execution_count": 8,
     "metadata": {},
     "output_type": "execute_result"
    }
   ],
   "source": [
    "\"this is a test of the emergency broadcast system\""
   ]
  },
  {
   "cell_type": "markdown",
   "id": "fe38dc27",
   "metadata": {},
   "source": [
    "#### bigint should return the bigint in literal format"
   ]
  },
  {
   "cell_type": "code",
   "execution_count": 9,
   "id": "44b63807",
   "metadata": {},
   "outputs": [
    {
     "data": {
      "application/json": "31337n",
      "text/plain": [
       "31337n"
      ]
     },
     "execution_count": 9,
     "metadata": {},
     "output_type": "execute_result"
    }
   ],
   "source": [
    "31337n"
   ]
  },
  {
   "cell_type": "markdown",
   "id": "843ccb6c",
   "metadata": {},
   "source": [
    "#### symbol should return a string describing the symbol"
   ]
  },
  {
   "cell_type": "code",
   "execution_count": 10,
   "id": "e10c0d31",
   "metadata": {},
   "outputs": [
    {
     "data": {
      "application/json": "Symbol(foo)",
      "text/plain": [
       "Symbol(foo)"
      ]
     },
     "execution_count": 10,
     "metadata": {},
     "output_type": "execute_result"
    }
   ],
   "source": [
    "Symbol(\"foo\")"
   ]
  },
  {
   "cell_type": "markdown",
   "id": "171b817f",
   "metadata": {},
   "source": [
    "#### object should describe the object inspection"
   ]
  },
  {
   "cell_type": "code",
   "execution_count": 11,
   "id": "81c99233",
   "metadata": {},
   "outputs": [
    {
     "data": {
      "application/json": "{ foo: \u001b[32m\"bar\"\u001b[39m }",
      "text/plain": [
       "{ foo: \u001b[32m\"bar\"\u001b[39m }"
      ]
     },
     "execution_count": 11,
     "metadata": {},
     "output_type": "execute_result"
    }
   ],
   "source": [
    "{foo: \"bar\"}"
   ]
  },
  {
   "cell_type": "code",
   "execution_count": 12,
   "id": "c065ff3d",
   "metadata": {},
   "outputs": [
    {
     "data": {
      "application/json": "{\n  core: {\n    opcallSync: \u001b[36m[Function: opcallSync]\u001b[39m,\n    opcallAsync: \u001b[36m[Function: opcallAsync]\u001b[39m,\n    refOp: \u001b[36m[Function: refOp]\u001b[39m,\n    unrefOp: \u001b[36m[Function: unrefOp]\u001b[39m,\n    setMacrotaskCallback: \u001b[36m[Function: setMacrotaskCallback]\u001b[39m,\n    setNextTickCallback: \u001b[36m[Function: setNextTickCallback]\u001b[39m,\n    setPromiseRejectCallback: \u001b[36m[Function: setPromiseRejectCallback]\u001b[39m,\n    setUncaughtExceptionCallback: \u001b[36m[Function: setUncaughtExceptionCallback]\u001b[39m,\n    runMicrotasks: \u001b[36m[Function: runMicrotasks]\u001b[39m,\n    hasTickScheduled: \u001b[36m[Function: hasTickScheduled]\u001b[39m,\n    setHasTickScheduled: \u001b[36m[Function: setHasTickScheduled]\u001b[39m,\n    evalContext: \u001b[36m[Function: evalContext]\u001b[39m,\n    encode: \u001b[36m[Function: encode]\u001b[39m,\n    decode: \u001b[36m[Function: decode]\u001b[39m,\n    serialize: \u001b[36m[Function: serialize]\u001b[39m,\n    deserialize: \u001b[36m[Function: deserialize]\u001b[39m,\n    getPromiseDetails: \u001b[36m[Function: getPromiseDetails]\u001b[39m,\n    getProxyDetails: \u001b[36m[Function: getProxyDetails]\u001b[39m,\n    isProxy: \u001b[36m[Function: isProxy]\u001b[39m,\n    memoryUsage: \u001b[36m[Function: memoryUsage]\u001b[39m,\n    callConsole: \u001b[36m[Function: callConsole]\u001b[39m,\n    createHostObject: \u001b[36m[Function: createHostObject]\u001b[39m,\n    setWasmStreamingCallback: \u001b[36m[Function: setWasmStreamingCallback]\u001b[39m,\n    opAsync: \u001b[36m[Function: opAsync]\u001b[39m,\n    opSync: \u001b[36m[Function: opSync]\u001b[39m,\n    ops: \u001b[36m[Function: ops]\u001b[39m,\n    close: \u001b[36m[Function: close]\u001b[39m,\n    tryClose: \u001b[36m[Function: tryClose]\u001b[39m,\n    read: \u001b[36m[Function: read]\u001b[39m,\n    write: \u001b[36m[Function: write]\u001b[39m,\n    shutdown: \u001b[36m[Function: shutdown]\u001b[39m,\n    print: \u001b[36m[Function: print]\u001b[39m,\n    resources: \u001b[36m[Function: resources]\u001b[39m,\n    metrics: \u001b[36m[Function: metrics]\u001b[39m,\n    registerErrorBuilder: \u001b[36m[Function: registerErrorBuilder]\u001b[39m,\n    registerErrorClass: \u001b[36m[Function: registerErrorClass]\u001b[39m,\n    opresolve: \u001b[36m[Function: opresolve]\u001b[39m,\n    syncOpsCache: \u001b[36m[Function: syncOpsCache]\u001b[39m,\n    BadResource: \u001b[36m[Function: BadResource]\u001b[39m,\n    Interrupted: \u001b[36m[Function: Interrupted]\u001b[39m,\n    createPrepareStackTrace: \u001b[36m[Function: createPrepareStackTrace]\u001b[39m\n  },\n  internal: \u001b[32mSymbol(Deno.internal)\u001b[39m,\n  resources: \u001b[36m[Function: resources]\u001b[39m,\n  close: \u001b[36m[Function: close]\u001b[39m,\n  memoryUsage: \u001b[36m[Function: memoryUsage]\u001b[39m,\n  metrics: \u001b[36m[Function: metrics]\u001b[39m,\n  test: \u001b[36m[Function: test]\u001b[39m,\n  Process: \u001b[36m[Function: Process]\u001b[39m,\n  run: \u001b[36m[Function: run]\u001b[39m,\n  isatty: \u001b[36m[Function: isatty]\u001b[39m,\n  writeFileSync: \u001b[36m[Function: writeFileSync]\u001b[39m,\n  writeFile: \u001b[36m[AsyncFunction: writeFile]\u001b[39m,\n  writeTextFileSync: \u001b[36m[Function: writeTextFileSync]\u001b[39m,\n  writeTextFile: \u001b[36m[Function: writeTextFile]\u001b[39m,\n  readTextFile: \u001b[36m[AsyncFunction: readTextFile]\u001b[39m,\n  readTextFileSync: \u001b[36m[Function: readTextFileSync]\u001b[39m,\n  readFile: \u001b[36m[AsyncFunction: readFile]\u001b[39m,\n  readFileSync: \u001b[36m[Function: readFileSync]\u001b[39m,\n  watchFs: \u001b[36m[Function: watchFs]\u001b[39m,\n  chmodSync: \u001b[36m[Function: chmodSync]\u001b[39m,\n  chmod: \u001b[36m[AsyncFunction: chmod]\u001b[39m,\n  chown: \u001b[36m[AsyncFunction: chown]\u001b[39m,\n  chownSync: \u001b[36m[Function: chownSync]\u001b[39m,\n  copyFileSync: \u001b[36m[Function: copyFileSync]\u001b[39m,\n  cwd: \u001b[36m[Function: cwd]\u001b[39m,\n  makeTempDirSync: \u001b[36m[Function: makeTempDirSync]\u001b[39m,\n  makeTempDir: \u001b[36m[Function: makeTempDir]\u001b[39m,\n  makeTempFileSync: \u001b[36m[Function: makeTempFileSync]\u001b[39m,\n  makeTempFile: \u001b[36m[Function: makeTempFile]\u001b[39m,\n  mkdirSync: \u001b[36m[Function: mkdirSync]\u001b[39m,\n  mkdir: \u001b[36m[AsyncFunction: mkdir]\u001b[39m,\n  chdir: \u001b[36m[Function: chdir]\u001b[39m,\n  copyFile: \u001b[36m[AsyncFunction: copyFile]\u001b[39m,\n  readDirSync: \u001b[36m[Function: readDirSync]\u001b[39m,\n  readDir: \u001b[36m[Function: readDir]\u001b[39m,\n  readLinkSync: \u001b[36m[Function: readLinkSync]\u001b[39m,\n  readLink: \u001b[36m[Function: readLink]\u001b[39m,\n  realPathSync: \u001b[36m[Function: realPathSync]\u001b[39m,\n  realPath: \u001b[36m[Function: realPath]\u001b[39m,\n  removeSync: \u001b[36m[Function: removeSync]\u001b[39m,\n  remove: \u001b[36m[AsyncFunction: remove]\u001b[39m,\n  renameSync: \u001b[36m[Function: renameSync]\u001b[39m,\n  rename: \u001b[36m[AsyncFunction: rename]\u001b[39m,\n  version: { deno: \u001b[32m\"1.17.0\"\u001b[39m, v8: \u001b[32m\"9.7.106.15\"\u001b[39m, typescript: \u001b[32m\"4.5.2\"\u001b[39m },\n  build: {\n    target: \u001b[32m\"x86_64-apple-darwin\"\u001b[39m,\n    arch: \u001b[32m\"x86_64\"\u001b[39m,\n    os: \u001b[32m\"darwin\"\u001b[39m,\n    vendor: \u001b[32m\"apple\"\u001b[39m,\n    env: \u001b[90mundefined\u001b[39m\n  },\n  statSync: \u001b[36m[Function: statSync]\u001b[39m,\n  lstatSync: \u001b[36m[Function: lstatSync]\u001b[39m,\n  stat: \u001b[36m[AsyncFunction: stat]\u001b[39m,\n  lstat: \u001b[36m[AsyncFunction: lstat]\u001b[39m,\n  truncateSync: \u001b[36m[Function: truncateSync]\u001b[39m,\n  truncate: \u001b[36m[AsyncFunction: truncate]\u001b[39m,\n  ftruncateSync: \u001b[36m[Function: ftruncateSync]\u001b[39m,\n  ftruncate: \u001b[36m[AsyncFunction: ftruncate]\u001b[39m,\n  errors: {\n    NotFound: \u001b[36m[Function: NotFound]\u001b[39m,\n    PermissionDenied: \u001b[36m[Function: PermissionDenied]\u001b[39m,\n    ConnectionRefused: \u001b[36m[Function: ConnectionRefused]\u001b[39m,\n    ConnectionReset: \u001b[36m[Function: ConnectionReset]\u001b[39m,\n    ConnectionAborted: \u001b[36m[Function: ConnectionAborted]\u001b[39m,\n    NotConnected: \u001b[36m[Function: NotConnected]\u001b[39m,\n    AddrInUse: \u001b[36m[Function: AddrInUse]\u001b[39m,\n    AddrNotAvailable: \u001b[36m[Function: AddrNotAvailable]\u001b[39m,\n    BrokenPipe: \u001b[36m[Function: BrokenPipe]\u001b[39m,\n    AlreadyExists: \u001b[36m[Function: AlreadyExists]\u001b[39m,\n    InvalidData: \u001b[36m[Function: InvalidData]\u001b[39m,\n    TimedOut: \u001b[36m[Function: TimedOut]\u001b[39m,\n    Interrupted: \u001b[36m[Function: Interrupted]\u001b[39m,\n    WriteZero: \u001b[36m[Function: WriteZero]\u001b[39m,\n    UnexpectedEof: \u001b[36m[Function: UnexpectedEof]\u001b[39m,\n    BadResource: \u001b[36m[Function: BadResource]\u001b[39m,\n    Http: \u001b[36m[Function: Http]\u001b[39m,\n    Busy: \u001b[36m[Function: Busy]\u001b[39m,\n    NotSupported: \u001b[36m[Function: NotSupported]\u001b[39m\n  },\n  customInspect: \u001b[32mSymbol(Deno.customInspect)\u001b[39m,\n  inspect: \u001b[36m[Function: inspect]\u001b[39m,\n  env: {\n    get: \u001b[36m[Function: getEnv]\u001b[39m,\n    toObject: \u001b[36m[Function: toObject]\u001b[39m,\n    set: \u001b[36m[Function: setEnv]\u001b[39m,\n    delete: \u001b[36m[Function: deleteEnv]\u001b[39m\n  },\n  exit: \u001b[36m[Function: exit]\u001b[39m,\n  execPath: \u001b[36m[Function: execPath]\u001b[39m,\n  Buffer: \u001b[36m[Function: Buffer]\u001b[39m,\n  readAll: \u001b[36m[AsyncFunction: readAll]\u001b[39m,\n  readAllSync: \u001b[36m[Function: readAllSync]\u001b[39m,\n  writeAll: \u001b[36m[AsyncFunction: writeAll]\u001b[39m,\n  writeAllSync: \u001b[36m[Function: writeAllSync]\u001b[39m,\n  copy: \u001b[36m[AsyncFunction: copy]\u001b[39m,\n  iter: \u001b[36m[AsyncGeneratorFunction: iter]\u001b[39m,\n  iterSync: \u001b[36m[GeneratorFunction: iterSync]\u001b[39m,\n  SeekMode: { \"0\": \u001b[32m\"Start\"\u001b[39m, \"1\": \u001b[32m\"Current\"\u001b[39m, \"2\": \u001b[32m\"End\"\u001b[39m, Start: \u001b[33m0\u001b[39m, Current: \u001b[33m1\u001b[39m, End: \u001b[33m2\u001b[39m },\n  read: \u001b[36m[AsyncFunction: read]\u001b[39m,\n  readSync: \u001b[36m[Function: readSync]\u001b[39m,\n  write: \u001b[36m[Function: write]\u001b[39m,\n  writeSync: \u001b[36m[Function: writeSync]\u001b[39m,\n  File: \u001b[36m[Function: File]\u001b[39m,\n  open: \u001b[36m[AsyncFunction: open]\u001b[39m,\n  openSync: \u001b[36m[Function: openSync]\u001b[39m,\n  create: \u001b[36m[Function: create]\u001b[39m,\n  createSync: \u001b[36m[Function: createSync]\u001b[39m,\n  stdin: Stdin {},\n  stdout: Stdout {},\n  stderr: Stderr {},\n  seek: \u001b[36m[Function: seek]\u001b[39m,\n  seekSync: \u001b[36m[Function: seekSync]\u001b[39m,\n  connect: \u001b[36m[AsyncFunction: connect]\u001b[39m,\n  listen: \u001b[36m[Function: listen]\u001b[39m,\n  connectTls: \u001b[36m[AsyncFunction: connectTls]\u001b[39m,\n  listenTls: \u001b[36m[Function: listenTls]\u001b[39m,\n  startTls: \u001b[36m[AsyncFunction: startTls]\u001b[39m,\n  shutdown: \u001b[36m[Function: shutdown]\u001b[39m,\n  fstatSync: \u001b[36m[Function: fstatSync]\u001b[39m,\n  fstat: \u001b[36m[AsyncFunction: fstat]\u001b[39m,\n  fsyncSync: \u001b[36m[Function: fsyncSync]\u001b[39m,\n  fsync: \u001b[36m[AsyncFunction: fsync]\u001b[39m,\n  fdatasyncSync: \u001b[36m[Function: fdatasyncSync]\u001b[39m,\n  fdatasync: \u001b[36m[AsyncFunction: fdatasync]\u001b[39m,\n  symlink: \u001b[36m[AsyncFunction: symlink]\u001b[39m,\n  symlinkSync: \u001b[36m[Function: symlinkSync]\u001b[39m,\n  link: \u001b[36m[AsyncFunction: link]\u001b[39m,\n  linkSync: \u001b[36m[Function: linkSync]\u001b[39m,\n  permissions: Permissions {},\n  Permissions: \u001b[36m[Function: Permissions]\u001b[39m,\n  PermissionStatus: \u001b[36m[Function: PermissionStatus]\u001b[39m,\n  serveHttp: \u001b[36m[Function: serveHttp]\u001b[39m,\n  resolveDns: \u001b[36m[Function: resolveDns]\u001b[39m,\n  upgradeWebSocket: \u001b[36m[Function: upgradeWebSocket]\u001b[39m,\n  kill: \u001b[36m[Function: opKill]\u001b[39m,\n  pid: \u001b[33m79003\u001b[39m,\n  ppid: \u001b[33m78992\u001b[39m,\n  noColor: \u001b[33mfalse\u001b[39m,\n  args: [],\n  mainModule: [Getter],\n  [Symbol(Deno.internal)]: {\n    Console: \u001b[36m[Function: Console]\u001b[39m,\n    cssToAnsi: \u001b[36m[Function: cssToAnsi]\u001b[39m,\n    inspectArgs: \u001b[36m[Function: inspectArgs]\u001b[39m,\n    parseCss: \u001b[36m[Function: parseCss]\u001b[39m,\n    parseCssColor: \u001b[36m[Function: parseCssColor]\u001b[39m,\n    pathFromURL: \u001b[36m[Function: pathFromURL]\u001b[39m,\n    runTests: \u001b[36m[AsyncFunction: runTests]\u001b[39m,\n    enableTestSteps: \u001b[36m[Function: enableTestSteps]\u001b[39m\n  }\n}",
      "text/plain": [
       "{\n",
       "  core: {\n",
       "    opcallSync: \u001b[36m[Function: opcallSync]\u001b[39m,\n",
       "    opcallAsync: \u001b[36m[Function: opcallAsync]\u001b[39m,\n",
       "    refOp: \u001b[36m[Function: refOp]\u001b[39m,\n",
       "    unrefOp: \u001b[36m[Function: unrefOp]\u001b[39m,\n",
       "    setMacrotaskCallback: \u001b[36m[Function: setMacrotaskCallback]\u001b[39m,\n",
       "    setNextTickCallback: \u001b[36m[Function: setNextTickCallback]\u001b[39m,\n",
       "    setPromiseRejectCallback: \u001b[36m[Function: setPromiseRejectCallback]\u001b[39m,\n",
       "    setUncaughtExceptionCallback: \u001b[36m[Function: setUncaughtExceptionCallback]\u001b[39m,\n",
       "    runMicrotasks: \u001b[36m[Function: runMicrotasks]\u001b[39m,\n",
       "    hasTickScheduled: \u001b[36m[Function: hasTickScheduled]\u001b[39m,\n",
       "    setHasTickScheduled: \u001b[36m[Function: setHasTickScheduled]\u001b[39m,\n",
       "    evalContext: \u001b[36m[Function: evalContext]\u001b[39m,\n",
       "    encode: \u001b[36m[Function: encode]\u001b[39m,\n",
       "    decode: \u001b[36m[Function: decode]\u001b[39m,\n",
       "    serialize: \u001b[36m[Function: serialize]\u001b[39m,\n",
       "    deserialize: \u001b[36m[Function: deserialize]\u001b[39m,\n",
       "    getPromiseDetails: \u001b[36m[Function: getPromiseDetails]\u001b[39m,\n",
       "    getProxyDetails: \u001b[36m[Function: getProxyDetails]\u001b[39m,\n",
       "    isProxy: \u001b[36m[Function: isProxy]\u001b[39m,\n",
       "    memoryUsage: \u001b[36m[Function: memoryUsage]\u001b[39m,\n",
       "    callConsole: \u001b[36m[Function: callConsole]\u001b[39m,\n",
       "    createHostObject: \u001b[36m[Function: createHostObject]\u001b[39m,\n",
       "    setWasmStreamingCallback: \u001b[36m[Function: setWasmStreamingCallback]\u001b[39m,\n",
       "    opAsync: \u001b[36m[Function: opAsync]\u001b[39m,\n",
       "    opSync: \u001b[36m[Function: opSync]\u001b[39m,\n",
       "    ops: \u001b[36m[Function: ops]\u001b[39m,\n",
       "    close: \u001b[36m[Function: close]\u001b[39m,\n",
       "    tryClose: \u001b[36m[Function: tryClose]\u001b[39m,\n",
       "    read: \u001b[36m[Function: read]\u001b[39m,\n",
       "    write: \u001b[36m[Function: write]\u001b[39m,\n",
       "    shutdown: \u001b[36m[Function: shutdown]\u001b[39m,\n",
       "    print: \u001b[36m[Function: print]\u001b[39m,\n",
       "    resources: \u001b[36m[Function: resources]\u001b[39m,\n",
       "    metrics: \u001b[36m[Function: metrics]\u001b[39m,\n",
       "    registerErrorBuilder: \u001b[36m[Function: registerErrorBuilder]\u001b[39m,\n",
       "    registerErrorClass: \u001b[36m[Function: registerErrorClass]\u001b[39m,\n",
       "    opresolve: \u001b[36m[Function: opresolve]\u001b[39m,\n",
       "    syncOpsCache: \u001b[36m[Function: syncOpsCache]\u001b[39m,\n",
       "    BadResource: \u001b[36m[Function: BadResource]\u001b[39m,\n",
       "    Interrupted: \u001b[36m[Function: Interrupted]\u001b[39m,\n",
       "    createPrepareStackTrace: \u001b[36m[Function: createPrepareStackTrace]\u001b[39m\n",
       "  },\n",
       "  internal: \u001b[32mSymbol(Deno.internal)\u001b[39m,\n",
       "  resources: \u001b[36m[Function: resources]\u001b[39m,\n",
       "  close: \u001b[36m[Function: close]\u001b[39m,\n",
       "  memoryUsage: \u001b[36m[Function: memoryUsage]\u001b[39m,\n",
       "  metrics: \u001b[36m[Function: metrics]\u001b[39m,\n",
       "  test: \u001b[36m[Function: test]\u001b[39m,\n",
       "  Process: \u001b[36m[Function: Process]\u001b[39m,\n",
       "  run: \u001b[36m[Function: run]\u001b[39m,\n",
       "  isatty: \u001b[36m[Function: isatty]\u001b[39m,\n",
       "  writeFileSync: \u001b[36m[Function: writeFileSync]\u001b[39m,\n",
       "  writeFile: \u001b[36m[AsyncFunction: writeFile]\u001b[39m,\n",
       "  writeTextFileSync: \u001b[36m[Function: writeTextFileSync]\u001b[39m,\n",
       "  writeTextFile: \u001b[36m[Function: writeTextFile]\u001b[39m,\n",
       "  readTextFile: \u001b[36m[AsyncFunction: readTextFile]\u001b[39m,\n",
       "  readTextFileSync: \u001b[36m[Function: readTextFileSync]\u001b[39m,\n",
       "  readFile: \u001b[36m[AsyncFunction: readFile]\u001b[39m,\n",
       "  readFileSync: \u001b[36m[Function: readFileSync]\u001b[39m,\n",
       "  watchFs: \u001b[36m[Function: watchFs]\u001b[39m,\n",
       "  chmodSync: \u001b[36m[Function: chmodSync]\u001b[39m,\n",
       "  chmod: \u001b[36m[AsyncFunction: chmod]\u001b[39m,\n",
       "  chown: \u001b[36m[AsyncFunction: chown]\u001b[39m,\n",
       "  chownSync: \u001b[36m[Function: chownSync]\u001b[39m,\n",
       "  copyFileSync: \u001b[36m[Function: copyFileSync]\u001b[39m,\n",
       "  cwd: \u001b[36m[Function: cwd]\u001b[39m,\n",
       "  makeTempDirSync: \u001b[36m[Function: makeTempDirSync]\u001b[39m,\n",
       "  makeTempDir: \u001b[36m[Function: makeTempDir]\u001b[39m,\n",
       "  makeTempFileSync: \u001b[36m[Function: makeTempFileSync]\u001b[39m,\n",
       "  makeTempFile: \u001b[36m[Function: makeTempFile]\u001b[39m,\n",
       "  mkdirSync: \u001b[36m[Function: mkdirSync]\u001b[39m,\n",
       "  mkdir: \u001b[36m[AsyncFunction: mkdir]\u001b[39m,\n",
       "  chdir: \u001b[36m[Function: chdir]\u001b[39m,\n",
       "  copyFile: \u001b[36m[AsyncFunction: copyFile]\u001b[39m,\n",
       "  readDirSync: \u001b[36m[Function: readDirSync]\u001b[39m,\n",
       "  readDir: \u001b[36m[Function: readDir]\u001b[39m,\n",
       "  readLinkSync: \u001b[36m[Function: readLinkSync]\u001b[39m,\n",
       "  readLink: \u001b[36m[Function: readLink]\u001b[39m,\n",
       "  realPathSync: \u001b[36m[Function: realPathSync]\u001b[39m,\n",
       "  realPath: \u001b[36m[Function: realPath]\u001b[39m,\n",
       "  removeSync: \u001b[36m[Function: removeSync]\u001b[39m,\n",
       "  remove: \u001b[36m[AsyncFunction: remove]\u001b[39m,\n",
       "  renameSync: \u001b[36m[Function: renameSync]\u001b[39m,\n",
       "  rename: \u001b[36m[AsyncFunction: rename]\u001b[39m,\n",
       "  version: { deno: \u001b[32m\"1.17.0\"\u001b[39m, v8: \u001b[32m\"9.7.106.15\"\u001b[39m, typescript: \u001b[32m\"4.5.2\"\u001b[39m },\n",
       "  build: {\n",
       "    target: \u001b[32m\"x86_64-apple-darwin\"\u001b[39m,\n",
       "    arch: \u001b[32m\"x86_64\"\u001b[39m,\n",
       "    os: \u001b[32m\"darwin\"\u001b[39m,\n",
       "    vendor: \u001b[32m\"apple\"\u001b[39m,\n",
       "    env: \u001b[90mundefined\u001b[39m\n",
       "  },\n",
       "  statSync: \u001b[36m[Function: statSync]\u001b[39m,\n",
       "  lstatSync: \u001b[36m[Function: lstatSync]\u001b[39m,\n",
       "  stat: \u001b[36m[AsyncFunction: stat]\u001b[39m,\n",
       "  lstat: \u001b[36m[AsyncFunction: lstat]\u001b[39m,\n",
       "  truncateSync: \u001b[36m[Function: truncateSync]\u001b[39m,\n",
       "  truncate: \u001b[36m[AsyncFunction: truncate]\u001b[39m,\n",
       "  ftruncateSync: \u001b[36m[Function: ftruncateSync]\u001b[39m,\n",
       "  ftruncate: \u001b[36m[AsyncFunction: ftruncate]\u001b[39m,\n",
       "  errors: {\n",
       "    NotFound: \u001b[36m[Function: NotFound]\u001b[39m,\n",
       "    PermissionDenied: \u001b[36m[Function: PermissionDenied]\u001b[39m,\n",
       "    ConnectionRefused: \u001b[36m[Function: ConnectionRefused]\u001b[39m,\n",
       "    ConnectionReset: \u001b[36m[Function: ConnectionReset]\u001b[39m,\n",
       "    ConnectionAborted: \u001b[36m[Function: ConnectionAborted]\u001b[39m,\n",
       "    NotConnected: \u001b[36m[Function: NotConnected]\u001b[39m,\n",
       "    AddrInUse: \u001b[36m[Function: AddrInUse]\u001b[39m,\n",
       "    AddrNotAvailable: \u001b[36m[Function: AddrNotAvailable]\u001b[39m,\n",
       "    BrokenPipe: \u001b[36m[Function: BrokenPipe]\u001b[39m,\n",
       "    AlreadyExists: \u001b[36m[Function: AlreadyExists]\u001b[39m,\n",
       "    InvalidData: \u001b[36m[Function: InvalidData]\u001b[39m,\n",
       "    TimedOut: \u001b[36m[Function: TimedOut]\u001b[39m,\n",
       "    Interrupted: \u001b[36m[Function: Interrupted]\u001b[39m,\n",
       "    WriteZero: \u001b[36m[Function: WriteZero]\u001b[39m,\n",
       "    UnexpectedEof: \u001b[36m[Function: UnexpectedEof]\u001b[39m,\n",
       "    BadResource: \u001b[36m[Function: BadResource]\u001b[39m,\n",
       "    Http: \u001b[36m[Function: Http]\u001b[39m,\n",
       "    Busy: \u001b[36m[Function: Busy]\u001b[39m,\n",
       "    NotSupported: \u001b[36m[Function: NotSupported]\u001b[39m\n",
       "  },\n",
       "  customInspect: \u001b[32mSymbol(Deno.customInspect)\u001b[39m,\n",
       "  inspect: \u001b[36m[Function: inspect]\u001b[39m,\n",
       "  env: {\n",
       "    get: \u001b[36m[Function: getEnv]\u001b[39m,\n",
       "    toObject: \u001b[36m[Function: toObject]\u001b[39m,\n",
       "    set: \u001b[36m[Function: setEnv]\u001b[39m,\n",
       "    delete: \u001b[36m[Function: deleteEnv]\u001b[39m\n",
       "  },\n",
       "  exit: \u001b[36m[Function: exit]\u001b[39m,\n",
       "  execPath: \u001b[36m[Function: execPath]\u001b[39m,\n",
       "  Buffer: \u001b[36m[Function: Buffer]\u001b[39m,\n",
       "  readAll: \u001b[36m[AsyncFunction: readAll]\u001b[39m,\n",
       "  readAllSync: \u001b[36m[Function: readAllSync]\u001b[39m,\n",
       "  writeAll: \u001b[36m[AsyncFunction: writeAll]\u001b[39m,\n",
       "  writeAllSync: \u001b[36m[Function: writeAllSync]\u001b[39m,\n",
       "  copy: \u001b[36m[AsyncFunction: copy]\u001b[39m,\n",
       "  iter: \u001b[36m[AsyncGeneratorFunction: iter]\u001b[39m,\n",
       "  iterSync: \u001b[36m[GeneratorFunction: iterSync]\u001b[39m,\n",
       "  SeekMode: { \"0\": \u001b[32m\"Start\"\u001b[39m, \"1\": \u001b[32m\"Current\"\u001b[39m, \"2\": \u001b[32m\"End\"\u001b[39m, Start: \u001b[33m0\u001b[39m, Current: \u001b[33m1\u001b[39m, End: \u001b[33m2\u001b[39m },\n",
       "  read: \u001b[36m[AsyncFunction: read]\u001b[39m,\n",
       "  readSync: \u001b[36m[Function: readSync]\u001b[39m,\n",
       "  write: \u001b[36m[Function: write]\u001b[39m,\n",
       "  writeSync: \u001b[36m[Function: writeSync]\u001b[39m,\n",
       "  File: \u001b[36m[Function: File]\u001b[39m,\n",
       "  open: \u001b[36m[AsyncFunction: open]\u001b[39m,\n",
       "  openSync: \u001b[36m[Function: openSync]\u001b[39m,\n",
       "  create: \u001b[36m[Function: create]\u001b[39m,\n",
       "  createSync: \u001b[36m[Function: createSync]\u001b[39m,\n",
       "  stdin: Stdin {},\n",
       "  stdout: Stdout {},\n",
       "  stderr: Stderr {},\n",
       "  seek: \u001b[36m[Function: seek]\u001b[39m,\n",
       "  seekSync: \u001b[36m[Function: seekSync]\u001b[39m,\n",
       "  connect: \u001b[36m[AsyncFunction: connect]\u001b[39m,\n",
       "  listen: \u001b[36m[Function: listen]\u001b[39m,\n",
       "  connectTls: \u001b[36m[AsyncFunction: connectTls]\u001b[39m,\n",
       "  listenTls: \u001b[36m[Function: listenTls]\u001b[39m,\n",
       "  startTls: \u001b[36m[AsyncFunction: startTls]\u001b[39m,\n",
       "  shutdown: \u001b[36m[Function: shutdown]\u001b[39m,\n",
       "  fstatSync: \u001b[36m[Function: fstatSync]\u001b[39m,\n",
       "  fstat: \u001b[36m[AsyncFunction: fstat]\u001b[39m,\n",
       "  fsyncSync: \u001b[36m[Function: fsyncSync]\u001b[39m,\n",
       "  fsync: \u001b[36m[AsyncFunction: fsync]\u001b[39m,\n",
       "  fdatasyncSync: \u001b[36m[Function: fdatasyncSync]\u001b[39m,\n",
       "  fdatasync: \u001b[36m[AsyncFunction: fdatasync]\u001b[39m,\n",
       "  symlink: \u001b[36m[AsyncFunction: symlink]\u001b[39m,\n",
       "  symlinkSync: \u001b[36m[Function: symlinkSync]\u001b[39m,\n",
       "  link: \u001b[36m[AsyncFunction: link]\u001b[39m,\n",
       "  linkSync: \u001b[36m[Function: linkSync]\u001b[39m,\n",
       "  permissions: Permissions {},\n",
       "  Permissions: \u001b[36m[Function: Permissions]\u001b[39m,\n",
       "  PermissionStatus: \u001b[36m[Function: PermissionStatus]\u001b[39m,\n",
       "  serveHttp: \u001b[36m[Function: serveHttp]\u001b[39m,\n",
       "  resolveDns: \u001b[36m[Function: resolveDns]\u001b[39m,\n",
       "  upgradeWebSocket: \u001b[36m[Function: upgradeWebSocket]\u001b[39m,\n",
       "  kill: \u001b[36m[Function: opKill]\u001b[39m,\n",
       "  pid: \u001b[33m79003\u001b[39m,\n",
       "  ppid: \u001b[33m78992\u001b[39m,\n",
       "  noColor: \u001b[33mfalse\u001b[39m,\n",
       "  args: [],\n",
       "  mainModule: [Getter],\n",
       "  [Symbol(Deno.internal)]: {\n",
       "    Console: \u001b[36m[Function: Console]\u001b[39m,\n",
       "    cssToAnsi: \u001b[36m[Function: cssToAnsi]\u001b[39m,\n",
       "    inspectArgs: \u001b[36m[Function: inspectArgs]\u001b[39m,\n",
       "    parseCss: \u001b[36m[Function: parseCss]\u001b[39m,\n",
       "    parseCssColor: \u001b[36m[Function: parseCssColor]\u001b[39m,\n",
       "    pathFromURL: \u001b[36m[Function: pathFromURL]\u001b[39m,\n",
       "    runTests: \u001b[36m[AsyncFunction: runTests]\u001b[39m,\n",
       "    enableTestSteps: \u001b[36m[Function: enableTestSteps]\u001b[39m\n",
       "  }\n",
       "}"
      ]
     },
     "execution_count": 12,
     "metadata": {},
     "output_type": "execute_result"
    }
   ],
   "source": [
    "Deno"
   ]
  },
  {
   "cell_type": "markdown",
   "id": "3a89dada",
   "metadata": {},
   "source": [
    "#### object with Symbol(\"toPng\") should return an image (TODO)"
   ]
  },
  {
   "cell_type": "markdown",
   "id": "46da2b23",
   "metadata": {},
   "source": [
    "### User API"
   ]
  },
  {
   "cell_type": "markdown",
   "id": "64d6cb2c",
   "metadata": {},
   "source": [
    "#### Deno.jupyter.display()"
   ]
  },
  {
   "cell_type": "code",
   "execution_count": 1,
   "id": "027948f2",
   "metadata": {},
   "outputs": [
    {
     "data": {
      "application/json": null,
      "text/plain": [
       "null"
      ]
     },
     "execution_count": 1,
     "metadata": {},
     "output_type": "execute_result"
    },
    {
     "data": {},
     "metadata": {},
     "output_type": "display_data"
    }
   ],
   "source": [
    "Deno.jupyter.display(\"text/plain\", Uint8Array.from([1, 2, 3]))"
   ]
  },
  {
   "cell_type": "markdown",
   "id": "3b6d484c",
   "metadata": {},
   "source": [
    "## Failing Tests"
   ]
  },
  {
   "cell_type": "markdown",
   "id": "ed389024",
   "metadata": {},
   "source": [
    "### prints an error message and stack trace"
   ]
  },
  {
   "cell_type": "code",
   "execution_count": null,
   "id": "b5c7b819",
   "metadata": {},
   "outputs": [
    {
     "ename": "\"Error\"",
     "evalue": "Error: this is a test",
     "output_type": "error",
     "traceback": [
      "Error: this is a test",
      "    at foo (<anonymous>:3:11)",
      "    at <anonymous>:4:3"
     ]
    }
   ],
   "source": [
    "(function foo() {\n",
    "    throw new Error(\"this is a test\")\n",
    "})()"
   ]
  }
 ],
 "metadata": {
  "kernelspec": {
   "display_name": "Deno (Rust)",
   "language": "typescript",
   "name": "rusty_deno"
  },
  "language_info": {
   "file_extension": ".ts",
   "mimetype": "text/x.typescript",
   "name": "typescript",
   "version": "4.5.2"
  },
  "toc": {
   "base_numbering": 1,
   "nav_menu": {},
   "number_sections": true,
   "sideBar": true,
   "skip_h1_title": false,
   "title_cell": "Table of Contents",
   "title_sidebar": "Contents",
   "toc_cell": false,
   "toc_position": {},
   "toc_section_display": true,
   "toc_window_display": false
  }
 },
 "nbformat": 4,
 "nbformat_minor": 5
}
