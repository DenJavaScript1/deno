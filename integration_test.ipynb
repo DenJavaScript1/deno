{
 "cells": [
  {
   "attachments": {},
   "cell_type": "markdown",
   "id": "182aef1d",
   "metadata": {},
   "source": [
    "# Integration Tests for Deno Jupyter\n",
    "This notebook contains a number of tests to ensure that Jupyter is working as expected. You should be able to select \"Kernel->Restart and Run All\" in Jupyter's notebook UI to run the tests. The first section of tests named \"Passing Tests\" should pass. The second set of tests \"Failing Tests\" should fail. When in doubt, refer to the currently committed notebook file to make sure tests pass."
   ]
  },
  {
   "attachments": {},
   "cell_type": "markdown",
   "id": "d7705d88",
   "metadata": {},
   "source": [
    "## Passing Tests"
   ]
  },
  {
   "attachments": {},
   "cell_type": "markdown",
   "id": "669f972e",
   "metadata": {
    "heading_collapsed": true
   },
   "source": [
    "### Simple Tests"
   ]
  },
  {
   "attachments": {},
   "cell_type": "markdown",
   "id": "e7e8a512",
   "metadata": {
    "hidden": true
   },
   "source": [
    "#### This test should print \"hi\".\n",
    "If this doesn't work, everything else will probably fail :)"
   ]
  },
  {
   "cell_type": "code",
   "execution_count": null,
   "id": "a5d38758",
   "metadata": {
    "hidden": true
   },
   "outputs": [
    {
     "data": {
      "text/plain": [
       "\u001b[90mundefined\u001b[39m"
      ]
     },
     "execution_count": 1,
     "metadata": {},
     "output_type": "execute_result"
    },
    {
     "name": "stdout",
     "output_type": "stream",
     "text": [
      "hi\n"
     ]
    }
   ],
   "source": [
    "console.log(\"hi\")"
   ]
  },
  {
   "attachments": {},
   "cell_type": "markdown",
   "id": "bc5ce8e3",
   "metadata": {
    "hidden": true
   },
   "source": [
    "#### Top-level await"
   ]
  },
  {
   "cell_type": "code",
   "execution_count": null,
   "id": "f7fa885a",
   "metadata": {
    "hidden": true
   },
   "outputs": [
    {
     "data": {
      "text/plain": [
       "\u001b[90mundefined\u001b[39m"
      ]
     },
     "execution_count": 2,
     "metadata": {},
     "output_type": "execute_result"
    },
    {
     "name": "stdout",
     "output_type": "stream",
     "text": [
      "x is 42\n"
     ]
    }
   ],
   "source": [
    "let x = await Promise.resolve(42);\n",
    "console.log(\"x is\", x);"
   ]
  },
  {
   "attachments": {},
   "cell_type": "markdown",
   "id": "c21455ae",
   "metadata": {
    "hidden": true
   },
   "source": [
    "#### TypeScript transpiling\n",
    "Credit to [typescriptlang.org](https://www.typescriptlang.org/docs/handbook/interfaces.html) for this code"
   ]
  },
  {
   "cell_type": "code",
   "execution_count": 3,
   "id": "08a17340",
   "metadata": {
    "hidden": true
   },
   "outputs": [
    {
     "data": {
      "text/plain": [
       "{ color: \u001b[32m\"red\"\u001b[39m, area: \u001b[33m10000\u001b[39m }"
      ]
     },
     "execution_count": 3,
     "metadata": {},
     "output_type": "execute_result"
    }
   ],
   "source": [
    "interface SquareConfig {\n",
    "  color?: string;\n",
    "  width?: number;\n",
    "}\n",
    " \n",
    "function createSquare(config: SquareConfig): { color: string; area: number } {\n",
    "  return {\n",
    "    color: config.color || \"red\",\n",
    "    area: config.width ? config.width * config.width : 20,\n",
    "  };\n",
    "}\n",
    " \n",
    "createSquare({ colour: \"red\", width: 100 });"
   ]
  },
  {
   "attachments": {},
   "cell_type": "markdown",
   "id": "eaa0ebc0",
   "metadata": {
    "heading_collapsed": true
   },
   "source": [
    "### Return Values"
   ]
  },
  {
   "attachments": {},
   "cell_type": "markdown",
   "id": "52876276",
   "metadata": {
    "hidden": true
   },
   "source": [
    "#### undefined should not return a value"
   ]
  },
  {
   "cell_type": "code",
   "execution_count": 4,
   "id": "bbf2c09b",
   "metadata": {
    "hidden": true
   },
   "outputs": [
    {
     "data": {
      "text/plain": [
       "\u001b[90mundefined\u001b[39m"
      ]
     },
     "execution_count": 4,
     "metadata": {},
     "output_type": "execute_result"
    }
   ],
   "source": [
    "undefined"
   ]
  },
  {
   "attachments": {},
   "cell_type": "markdown",
   "id": "e175c803",
   "metadata": {
    "hidden": true
   },
   "source": [
    "#### null should return \"null\""
   ]
  },
  {
   "cell_type": "code",
   "execution_count": 5,
   "id": "d9801d80",
   "metadata": {
    "hidden": true
   },
   "outputs": [
    {
     "data": {
      "text/plain": [
       "\u001b[1mnull\u001b[22m"
      ]
     },
     "execution_count": 5,
     "metadata": {},
     "output_type": "execute_result"
    }
   ],
   "source": [
    "null"
   ]
  },
  {
   "attachments": {},
   "cell_type": "markdown",
   "id": "a2a716dc",
   "metadata": {
    "hidden": true
   },
   "source": [
    "#### boolean should return the boolean"
   ]
  },
  {
   "cell_type": "code",
   "execution_count": 6,
   "id": "cfaac330",
   "metadata": {
    "hidden": true
   },
   "outputs": [
    {
     "data": {
      "text/plain": [
       "\u001b[33mtrue\u001b[39m"
      ]
     },
     "execution_count": 6,
     "metadata": {},
     "output_type": "execute_result"
    }
   ],
   "source": [
    "true"
   ]
  },
  {
   "attachments": {},
   "cell_type": "markdown",
   "id": "8d9f1aba",
   "metadata": {
    "hidden": true
   },
   "source": [
    "#### number should return the number"
   ]
  },
  {
   "cell_type": "code",
   "execution_count": 7,
   "id": "ec3be2da",
   "metadata": {
    "hidden": true
   },
   "outputs": [
    {
     "data": {
      "text/plain": [
       "\u001b[33m42\u001b[39m"
      ]
     },
     "execution_count": 7,
     "metadata": {},
     "output_type": "execute_result"
    }
   ],
   "source": [
    "42"
   ]
  },
  {
   "attachments": {},
   "cell_type": "markdown",
   "id": "60965915",
   "metadata": {
    "hidden": true
   },
   "source": [
    "#### string should return the string"
   ]
  },
  {
   "cell_type": "code",
   "execution_count": 8,
   "id": "997cf2d7",
   "metadata": {
    "hidden": true
   },
   "outputs": [
    {
     "data": {
      "text/plain": [
       "\u001b[32m\"this is a test of the emergency broadcast system\"\u001b[39m"
      ]
     },
     "execution_count": 8,
     "metadata": {},
     "output_type": "execute_result"
    }
   ],
   "source": [
    "\"this is a test of the emergency broadcast system\""
   ]
  },
  {
   "attachments": {},
   "cell_type": "markdown",
   "id": "fe38dc27",
   "metadata": {
    "hidden": true
   },
   "source": [
    "#### bigint should return the bigint in literal format"
   ]
  },
  {
   "cell_type": "code",
   "execution_count": 9,
   "id": "44b63807",
   "metadata": {
    "hidden": true
   },
   "outputs": [
    {
     "data": {
      "text/plain": [
       "\u001b[33m31337n\u001b[39m"
      ]
     },
     "execution_count": 9,
     "metadata": {},
     "output_type": "execute_result"
    }
   ],
   "source": [
    "31337n"
   ]
  },
  {
   "attachments": {},
   "cell_type": "markdown",
   "id": "843ccb6c",
   "metadata": {
    "hidden": true
   },
   "source": [
    "#### symbol should return a string describing the symbol"
   ]
  },
  {
   "cell_type": "code",
   "execution_count": 10,
   "id": "e10c0d31",
   "metadata": {
    "hidden": true
   },
   "outputs": [
    {
     "data": {
      "text/plain": [
       "\u001b[32mSymbol(foo)\u001b[39m"
      ]
     },
     "execution_count": 10,
     "metadata": {},
     "output_type": "execute_result"
    }
   ],
   "source": [
    "Symbol(\"foo\")"
   ]
  },
  {
   "attachments": {},
   "cell_type": "markdown",
   "id": "171b817f",
   "metadata": {
    "hidden": true
   },
   "source": [
    "#### object should describe the object inspection"
   ]
  },
  {
   "cell_type": "code",
   "execution_count": 11,
   "id": "81c99233",
   "metadata": {
    "hidden": true
   },
   "outputs": [
    {
     "data": {
      "text/plain": [
       "{ foo: \u001b[32m\"bar\"\u001b[39m }"
      ]
     },
     "execution_count": 11,
     "metadata": {},
     "output_type": "execute_result"
    }
   ],
   "source": [
    "{foo: \"bar\"}"
   ]
  },
  {
   "cell_type": "code",
   "execution_count": 12,
   "id": "c065ff3d",
   "metadata": {
    "hidden": true
   },
   "outputs": [
    {
     "data": {
      "text/plain": [
       "{\n",
       "  internal: \u001b[32mSymbol(Deno.internal)\u001b[39m,\n",
       "  resources: \u001b[36m[Function: resources]\u001b[39m,\n",
       "  close: \u001b[36m[Function: op_close]\u001b[39m,\n",
       "  metrics: \u001b[36m[Function: metrics]\u001b[39m,\n",
       "  Process: \u001b[36m[class Process]\u001b[39m,\n",
       "  run: \u001b[36m[Function: run]\u001b[39m,\n",
       "  isatty: \u001b[36m[Function: isatty]\u001b[39m,\n",
       "  writeFileSync: \u001b[36m[Function: writeFileSync]\u001b[39m,\n",
       "  writeFile: \u001b[36m[AsyncFunction: writeFile]\u001b[39m,\n",
       "  writeTextFileSync: \u001b[36m[Function: writeTextFileSync]\u001b[39m,\n",
       "  writeTextFile: \u001b[36m[Function: writeTextFile]\u001b[39m,\n",
       "  readTextFile: \u001b[36m[AsyncFunction: readTextFile]\u001b[39m,\n",
       "  readTextFileSync: \u001b[36m[Function: readTextFileSync]\u001b[39m,\n",
       "  readFile: \u001b[36m[AsyncFunction: readFile]\u001b[39m,\n",
       "  readFileSync: \u001b[36m[Function: readFileSync]\u001b[39m,\n",
       "  watchFs: \u001b[36m[Function: watchFs]\u001b[39m,\n",
       "  chmodSync: \u001b[36m[Function: chmodSync]\u001b[39m,\n",
       "  chmod: \u001b[36m[AsyncFunction: chmod]\u001b[39m,\n",
       "  chown: \u001b[36m[AsyncFunction: chown]\u001b[39m,\n",
       "  chownSync: \u001b[36m[Function: chownSync]\u001b[39m,\n",
       "  copyFileSync: \u001b[36m[Function: copyFileSync]\u001b[39m,\n",
       "  cwd: \u001b[36m[Function: cwd]\u001b[39m,\n",
       "  makeTempDirSync: \u001b[36m[Function: makeTempDirSync]\u001b[39m,\n",
       "  makeTempDir: \u001b[36m[Function: makeTempDir]\u001b[39m,\n",
       "  makeTempFileSync: \u001b[36m[Function: makeTempFileSync]\u001b[39m,\n",
       "  makeTempFile: \u001b[36m[Function: makeTempFile]\u001b[39m,\n",
       "  memoryUsage: \u001b[36m[Function: memoryUsage]\u001b[39m,\n",
       "  mkdirSync: \u001b[36m[Function: mkdirSync]\u001b[39m,\n",
       "  mkdir: \u001b[36m[AsyncFunction: mkdir]\u001b[39m,\n",
       "  chdir: \u001b[36m[Function: chdir]\u001b[39m,\n",
       "  copyFile: \u001b[36m[AsyncFunction: copyFile]\u001b[39m,\n",
       "  readDirSync: \u001b[36m[Function: readDirSync]\u001b[39m,\n",
       "  readDir: \u001b[36m[Function: readDir]\u001b[39m,\n",
       "  readLinkSync: \u001b[36m[Function: readLinkSync]\u001b[39m,\n",
       "  readLink: \u001b[36m[Function: readLink]\u001b[39m,\n",
       "  realPathSync: \u001b[36m[Function: realPathSync]\u001b[39m,\n",
       "  realPath: \u001b[36m[Function: realPath]\u001b[39m,\n",
       "  removeSync: \u001b[36m[Function: removeSync]\u001b[39m,\n",
       "  remove: \u001b[36m[AsyncFunction: remove]\u001b[39m,\n",
       "  renameSync: \u001b[36m[Function: renameSync]\u001b[39m,\n",
       "  rename: \u001b[36m[AsyncFunction: rename]\u001b[39m,\n",
       "  version: { deno: \u001b[32m\"1.36.3\"\u001b[39m, v8: \u001b[32m\"11.7.439.6\"\u001b[39m, typescript: \u001b[32m\"5.1.6\"\u001b[39m },\n",
       "  build: {\n",
       "    target: \u001b[32m\"aarch64-apple-darwin\"\u001b[39m,\n",
       "    arch: \u001b[32m\"aarch64\"\u001b[39m,\n",
       "    os: \u001b[32m\"darwin\"\u001b[39m,\n",
       "    vendor: \u001b[32m\"apple\"\u001b[39m,\n",
       "    env: \u001b[90mundefined\u001b[39m\n",
       "  },\n",
       "  statSync: \u001b[36m[Function: statSync]\u001b[39m,\n",
       "  lstatSync: \u001b[36m[Function: lstatSync]\u001b[39m,\n",
       "  stat: \u001b[36m[AsyncFunction: stat]\u001b[39m,\n",
       "  lstat: \u001b[36m[AsyncFunction: lstat]\u001b[39m,\n",
       "  truncateSync: \u001b[36m[Function: truncateSync]\u001b[39m,\n",
       "  truncate: \u001b[36m[AsyncFunction: truncate]\u001b[39m,\n",
       "  ftruncateSync: \u001b[36m[Function: ftruncateSync]\u001b[39m,\n",
       "  ftruncate: \u001b[36m[AsyncFunction: ftruncate]\u001b[39m,\n",
       "  futime: \u001b[36m[AsyncFunction: futime]\u001b[39m,\n",
       "  futimeSync: \u001b[36m[Function: futimeSync]\u001b[39m,\n",
       "  errors: {\n",
       "    NotFound: \u001b[36m[class NotFound extends Error]\u001b[39m,\n",
       "    PermissionDenied: \u001b[36m[class PermissionDenied extends Error]\u001b[39m,\n",
       "    ConnectionRefused: \u001b[36m[class ConnectionRefused extends Error]\u001b[39m,\n",
       "    ConnectionReset: \u001b[36m[class ConnectionReset extends Error]\u001b[39m,\n",
       "    ConnectionAborted: \u001b[36m[class ConnectionAborted extends Error]\u001b[39m,\n",
       "    NotConnected: \u001b[36m[class NotConnected extends Error]\u001b[39m,\n",
       "    AddrInUse: \u001b[36m[class AddrInUse extends Error]\u001b[39m,\n",
       "    AddrNotAvailable: \u001b[36m[class AddrNotAvailable extends Error]\u001b[39m,\n",
       "    BrokenPipe: \u001b[36m[class BrokenPipe extends Error]\u001b[39m,\n",
       "    AlreadyExists: \u001b[36m[class AlreadyExists extends Error]\u001b[39m,\n",
       "    InvalidData: \u001b[36m[class InvalidData extends Error]\u001b[39m,\n",
       "    TimedOut: \u001b[36m[class TimedOut extends Error]\u001b[39m,\n",
       "    Interrupted: \u001b[36m[class Interrupted extends Error]\u001b[39m,\n",
       "    WriteZero: \u001b[36m[class WriteZero extends Error]\u001b[39m,\n",
       "    WouldBlock: \u001b[36m[class WouldBlock extends Error]\u001b[39m,\n",
       "    UnexpectedEof: \u001b[36m[class UnexpectedEof extends Error]\u001b[39m,\n",
       "    BadResource: \u001b[36m[class BadResource extends Error]\u001b[39m,\n",
       "    Http: \u001b[36m[class Http extends Error]\u001b[39m,\n",
       "    Busy: \u001b[36m[class Busy extends Error]\u001b[39m,\n",
       "    NotSupported: \u001b[36m[class NotSupported extends Error]\u001b[39m,\n",
       "    FilesystemLoop: \u001b[36m[class FilesystemLoop extends Error]\u001b[39m,\n",
       "    IsADirectory: \u001b[36m[class IsADirectory extends Error]\u001b[39m,\n",
       "    NetworkUnreachable: \u001b[36m[class NetworkUnreachable extends Error]\u001b[39m,\n",
       "    NotADirectory: \u001b[36m[class NotADirectory extends Error]\u001b[39m\n",
       "  },\n",
       "  customInspect: \u001b[32mSymbol(Deno.customInspect)\u001b[39m,\n",
       "  inspect: \u001b[36m[Function: inspect]\u001b[39m,\n",
       "  env: {\n",
       "    get: \u001b[36m[Function: getEnv]\u001b[39m,\n",
       "    toObject: \u001b[36m[Function: toObject]\u001b[39m,\n",
       "    set: \u001b[36m[Function: setEnv]\u001b[39m,\n",
       "    has: \u001b[36m[Function: has]\u001b[39m,\n",
       "    delete: \u001b[36m[Function: deleteEnv]\u001b[39m\n",
       "  },\n",
       "  exit: \u001b[36m[Function: exit]\u001b[39m,\n",
       "  execPath: \u001b[36m[Function: execPath]\u001b[39m,\n",
       "  Buffer: \u001b[36m[class Buffer]\u001b[39m,\n",
       "  readAll: \u001b[36m[AsyncFunction: readAll]\u001b[39m,\n",
       "  readAllSync: \u001b[36m[Function: readAllSync]\u001b[39m,\n",
       "  writeAll: \u001b[36m[AsyncFunction: writeAll]\u001b[39m,\n",
       "  writeAllSync: \u001b[36m[Function: writeAllSync]\u001b[39m,\n",
       "  copy: \u001b[36m[AsyncFunction: copy]\u001b[39m,\n",
       "  iter: \u001b[36m[AsyncGeneratorFunction: iter]\u001b[39m,\n",
       "  iterSync: \u001b[36m[GeneratorFunction: iterSync]\u001b[39m,\n",
       "  SeekMode: {\n",
       "    \u001b[32m\"0\"\u001b[39m: \u001b[32m\"Start\"\u001b[39m,\n",
       "    \u001b[32m\"1\"\u001b[39m: \u001b[32m\"Current\"\u001b[39m,\n",
       "    \u001b[32m\"2\"\u001b[39m: \u001b[32m\"End\"\u001b[39m,\n",
       "    Start: \u001b[33m0\u001b[39m,\n",
       "    Current: \u001b[33m1\u001b[39m,\n",
       "    End: \u001b[33m2\u001b[39m\n",
       "  },\n",
       "  read: \u001b[36m[AsyncFunction: read]\u001b[39m,\n",
       "  readSync: \u001b[36m[Function: readSync]\u001b[39m,\n",
       "  write: \u001b[36m[Function: write]\u001b[39m,\n",
       "  writeSync: \u001b[36m[Function: writeSync]\u001b[39m,\n",
       "  File: \u001b[36m[class FsFile]\u001b[39m,\n",
       "  FsFile: \u001b[36m[class FsFile]\u001b[39m,\n",
       "  open: \u001b[36m[AsyncFunction: open]\u001b[39m,\n",
       "  openSync: \u001b[36m[Function: openSync]\u001b[39m,\n",
       "  create: \u001b[36m[Function: create]\u001b[39m,\n",
       "  createSync: \u001b[36m[Function: createSync]\u001b[39m,\n",
       "  stdin: Stdin {},\n",
       "  stdout: Stdout {},\n",
       "  stderr: Stderr {},\n",
       "  seek: \u001b[36m[Function: seek]\u001b[39m,\n",
       "  seekSync: \u001b[36m[Function: seekSync]\u001b[39m,\n",
       "  connect: \u001b[36m[AsyncFunction: connect]\u001b[39m,\n",
       "  listen: \u001b[36m[Function: listen]\u001b[39m,\n",
       "  loadavg: \u001b[36m[Function: loadavg]\u001b[39m,\n",
       "  connectTls: \u001b[36m[AsyncFunction: connectTls]\u001b[39m,\n",
       "  listenTls: \u001b[36m[Function: listenTls]\u001b[39m,\n",
       "  startTls: \u001b[36m[AsyncFunction: startTls]\u001b[39m,\n",
       "  shutdown: \u001b[36m[Function: shutdown]\u001b[39m,\n",
       "  fstatSync: \u001b[36m[Function: fstatSync]\u001b[39m,\n",
       "  fstat: \u001b[36m[AsyncFunction: fstat]\u001b[39m,\n",
       "  fsyncSync: \u001b[36m[Function: fsyncSync]\u001b[39m,\n",
       "  fsync: \u001b[36m[AsyncFunction: fsync]\u001b[39m,\n",
       "  fdatasyncSync: \u001b[36m[Function: fdatasyncSync]\u001b[39m,\n",
       "  fdatasync: \u001b[36m[AsyncFunction: fdatasync]\u001b[39m,\n",
       "  symlink: \u001b[36m[AsyncFunction: symlink]\u001b[39m,\n",
       "  symlinkSync: \u001b[36m[Function: symlinkSync]\u001b[39m,\n",
       "  link: \u001b[36m[AsyncFunction: link]\u001b[39m,\n",
       "  linkSync: \u001b[36m[Function: linkSync]\u001b[39m,\n",
       "  permissions: Permissions {},\n",
       "  Permissions: \u001b[36m[class Permissions]\u001b[39m,\n",
       "  PermissionStatus: \u001b[36m[class PermissionStatus extends EventTarget]\u001b[39m,\n",
       "  serveHttp: \u001b[36m[Function: serveHttp]\u001b[39m,\n",
       "  serve: \u001b[36m[Function: serve]\u001b[39m,\n",
       "  resolveDns: \u001b[36m[AsyncFunction: resolveDns]\u001b[39m,\n",
       "  upgradeWebSocket: \u001b[36m[Function: upgradeWebSocket]\u001b[39m,\n",
       "  utime: \u001b[36m[AsyncFunction: utime]\u001b[39m,\n",
       "  utimeSync: \u001b[36m[Function: utimeSync]\u001b[39m,\n",
       "  kill: \u001b[36m[Function: kill]\u001b[39m,\n",
       "  addSignalListener: \u001b[36m[Function: addSignalListener]\u001b[39m,\n",
       "  removeSignalListener: \u001b[36m[Function: removeSignalListener]\u001b[39m,\n",
       "  refTimer: \u001b[36m[Function: refTimer]\u001b[39m,\n",
       "  unrefTimer: \u001b[36m[Function: unrefTimer]\u001b[39m,\n",
       "  osRelease: \u001b[36m[Function: osRelease]\u001b[39m,\n",
       "  osUptime: \u001b[36m[Function: osUptime]\u001b[39m,\n",
       "  hostname: \u001b[36m[Function: hostname]\u001b[39m,\n",
       "  systemMemoryInfo: \u001b[36m[Function: systemMemoryInfo]\u001b[39m,\n",
       "  networkInterfaces: \u001b[36m[Function: networkInterfaces]\u001b[39m,\n",
       "  consoleSize: \u001b[36m[Function: consoleSize]\u001b[39m,\n",
       "  gid: \u001b[36m[Function: gid]\u001b[39m,\n",
       "  uid: \u001b[36m[Function: uid]\u001b[39m,\n",
       "  Command: \u001b[36m[class Command]\u001b[39m,\n",
       "  ChildProcess: \u001b[36m[class ChildProcess]\u001b[39m,\n",
       "  bench: \u001b[36m[Function: bench]\u001b[39m,\n",
       "  test: \u001b[36m[Function: test]\u001b[39m,\n",
       "  pid: \u001b[33m85735\u001b[39m,\n",
       "  ppid: \u001b[36m[Getter/Setter]\u001b[39m,\n",
       "  noColor: \u001b[33mfalse\u001b[39m,\n",
       "  args: [],\n",
       "  mainModule: \u001b[36m[Getter/Setter]\u001b[39m,\n",
       "  listenDatagram: \u001b[36m[Function: listenDatagram]\u001b[39m,\n",
       "  umask: \u001b[36m[Function: umask]\u001b[39m,\n",
       "  HttpClient: \u001b[36m[class HttpClient]\u001b[39m,\n",
       "  createHttpClient: \u001b[36m[Function: createHttpClient]\u001b[39m,\n",
       "  http: [Module: null prototype] {\n",
       "    HttpConn: \u001b[36m[class HttpConn]\u001b[39m,\n",
       "    _ws: \u001b[32mSymbol(\"[[associated_ws]]\")\u001b[39m,\n",
       "    serve: \u001b[36m[Function: serve]\u001b[39m,\n",
       "    upgradeHttp: \u001b[36m[Function: upgradeHttp]\u001b[39m,\n",
       "    upgradeWebSocket: \u001b[36m[Function: upgradeWebSocket]\u001b[39m\n",
       "  },\n",
       "  dlopen: \u001b[36m[Function: dlopen]\u001b[39m,\n",
       "  UnsafeCallback: \u001b[36m[class UnsafeCallback]\u001b[39m,\n",
       "  UnsafePointer: \u001b[36m[class UnsafePointer]\u001b[39m,\n",
       "  UnsafePointerView: \u001b[36m[class UnsafePointerView]\u001b[39m,\n",
       "  UnsafeFnPointer: \u001b[36m[class UnsafeFnPointer]\u001b[39m,\n",
       "  flock: \u001b[36m[AsyncFunction: flock]\u001b[39m,\n",
       "  flockSync: \u001b[36m[Function: flockSync]\u001b[39m,\n",
       "  funlock: \u001b[36m[AsyncFunction: funlock]\u001b[39m,\n",
       "  funlockSync: \u001b[36m[Function: funlockSync]\u001b[39m,\n",
       "  upgradeHttp: \u001b[36m[Function: upgradeHttp]\u001b[39m,\n",
       "  openKv: \u001b[36m[AsyncFunction: openKv]\u001b[39m,\n",
       "  AtomicOperation: \u001b[36m[class AtomicOperation]\u001b[39m,\n",
       "  Kv: \u001b[36m[class Kv]\u001b[39m,\n",
       "  KvU64: \u001b[36m[class KvU64]\u001b[39m,\n",
       "  KvListIterator: \u001b[36m[class KvListIterator extends Object]\u001b[39m,\n",
       "  [\u001b[32mSymbol(Deno.internal)\u001b[39m]: {\n",
       "    Console: \u001b[36m[class Console]\u001b[39m,\n",
       "    cssToAnsi: \u001b[36m[Function: cssToAnsi]\u001b[39m,\n",
       "    inspectArgs: \u001b[36m[Function: inspectArgs]\u001b[39m,\n",
       "    parseCss: \u001b[36m[Function: parseCss]\u001b[39m,\n",
       "    parseCssColor: \u001b[36m[Function: parseCssColor]\u001b[39m,\n",
       "    pathFromURL: \u001b[36m[Function: pathFromURL]\u001b[39m,\n",
       "    resourceForReadableStream: \u001b[36m[Function: resourceForReadableStream]\u001b[39m,\n",
       "    addTrailers: \u001b[36m[Function: addTrailers]\u001b[39m,\n",
       "    upgradeHttpRaw: \u001b[36m[Function: upgradeHttpRaw]\u001b[39m,\n",
       "    serveHttpOnListener: \u001b[36m[Function: serveHttpOnListener]\u001b[39m,\n",
       "    serveHttpOnConnection: \u001b[36m[Function: serveHttpOnConnection]\u001b[39m,\n",
       "    __initWorkerThreads: \u001b[36m[Function (anonymous)]\u001b[39m,\n",
       "    node: {\n",
       "      initialize: \u001b[36m[Function: initialize]\u001b[39m,\n",
       "      loadCjsModule: \u001b[36m[Function: loadCjsModule]\u001b[39m\n",
       "    },\n",
       "    buildCaseInsensitiveCommaValueFinder: \u001b[36m[Function: buildCaseInsensitiveCommaValueFinder]\u001b[39m,\n",
       "    core: {\n",
       "      ops: {\n",
       "        op_close: \u001b[36m[Function: op_close]\u001b[39m,\n",
       "        op_try_close: \u001b[36m[Function: op_try_close]\u001b[39m,\n",
       "        op_print: \u001b[36m[Function: op_print]\u001b[39m,\n",
       "        op_resources: \u001b[36m[Function: op_resources]\u001b[39m,\n",
       "        op_wasm_streaming_feed: \u001b[36m[Function: op_wasm_streaming_feed]\u001b[39m,\n",
       "        op_wasm_streaming_set_url: \u001b[36m[Function: op_wasm_streaming_set_url]\u001b[39m,\n",
       "        op_void_sync: \u001b[36m[Function: op_void_sync]\u001b[39m,\n",
       "        op_error_async: \u001b[36m[Function: op_error_async]\u001b[39m,\n",
       "        op_error_async_deferred: \u001b[36m[Function: op_error_async_deferred]\u001b[39m,\n",
       "        op_void_async: \u001b[36m[Function: op_void_async]\u001b[39m,\n",
       "        op_void_async_deferred: \u001b[36m[Function: op_void_async_deferred]\u001b[39m,\n",
       "        op_add: \u001b[36m[Function: op_add]\u001b[39m,\n",
       "        op_add_async: \u001b[36m[Function: op_add_async]\u001b[39m,\n",
       "        op_read: \u001b[36m[Function: op_read]\u001b[39m,\n",
       "        op_read_all: \u001b[36m[Function: op_read_all]\u001b[39m,\n",
       "        op_write: \u001b[36m[Function: op_write]\u001b[39m,\n",
       "        op_read_sync: \u001b[36m[Function: op_read_sync]\u001b[39m,\n",
       "        op_write_sync: \u001b[36m[Function: op_write_sync]\u001b[39m,\n",
       "        op_write_all: \u001b[36m[Function: op_write_all]\u001b[39m,\n",
       "        op_write_type_error: \u001b[36m[Function: op_write_type_error]\u001b[39m,\n",
       "        op_shutdown: \u001b[36m[Function: op_shutdown]\u001b[39m,\n",
       "        op_metrics: \u001b[36m[Function: op_metrics]\u001b[39m,\n",
       "        op_format_file_name: \u001b[36m[Function: op_format_file_name]\u001b[39m,\n",
       "        op_is_proxy: \u001b[36m[Function: op_is_proxy]\u001b[39m,\n",
       "        op_str_byte_length: \u001b[36m[Function: op_str_byte_length]\u001b[39m,\n",
       "        op_ref_op: \u001b[36m[Function: op_ref_op]\u001b[39m,\n",
       "        op_unref_op: \u001b[36m[Function: op_unref_op]\u001b[39m,\n",
       "        op_set_promise_reject_callback: \u001b[36m[Function: op_set_promise_reject_callback]\u001b[39m,\n",
       "        op_run_microtasks: \u001b[36m[Function: op_run_microtasks]\u001b[39m,\n",
       "        op_has_tick_scheduled: \u001b[36m[Function: op_has_tick_scheduled]\u001b[39m,\n",
       "        op_set_has_tick_scheduled: \u001b[36m[Function: op_set_has_tick_scheduled]\u001b[39m,\n",
       "        op_eval_context: \u001b[36m[Function: op_eval_context]\u001b[39m,\n",
       "        op_queue_microtask: \u001b[36m[Function: op_queue_microtask]\u001b[39m,\n",
       "        op_create_host_object: \u001b[36m[Function: op_create_host_object]\u001b[39m,\n",
       "        op_encode: \u001b[36m[Function: op_encode]\u001b[39m,\n",
       "        op_decode: \u001b[36m[Function: op_decode]\u001b[39m,\n",
       "        op_serialize: \u001b[36m[Function: op_serialize]\u001b[39m,\n",
       "        op_deserialize: \u001b[36m[Function: op_deserialize]\u001b[39m,\n",
       "        op_set_promise_hooks: \u001b[36m[Function: op_set_promise_hooks]\u001b[39m,\n",
       "        op_get_promise_details: \u001b[36m[Function: op_get_promise_details]\u001b[39m,\n",
       "        op_get_proxy_details: \u001b[36m[Function: op_get_proxy_details]\u001b[39m,\n",
       "        op_get_non_index_property_names: \u001b[36m[Function: op_get_non_index_property_names]\u001b[39m,\n",
       "        op_get_constructor_name: \u001b[36m[Function: op_get_constructor_name]\u001b[39m,\n",
       "        op_memory_usage: \u001b[36m[Function: op_memory_usage]\u001b[39m,\n",
       "        op_set_wasm_streaming_callback: \u001b[36m[Function: op_set_wasm_streaming_callback]\u001b[39m,\n",
       "        op_abort_wasm_streaming: \u001b[36m[Function: op_abort_wasm_streaming]\u001b[39m,\n",
       "        op_destructure_error: \u001b[36m[Function: op_destructure_error]\u001b[39m,\n",
       "        op_dispatch_exception: \u001b[36m[Function: op_dispatch_exception]\u001b[39m,\n",
       "        op_op_names: \u001b[36m[Function: op_op_names]\u001b[39m,\n",
       "        op_apply_source_map: \u001b[36m[Function: op_apply_source_map]\u001b[39m,\n",
       "        op_set_format_exception_callback: \u001b[36m[Function: op_set_format_exception_callback]\u001b[39m,\n",
       "        op_event_loop_has_more_work: \u001b[36m[Function: op_event_loop_has_more_work]\u001b[39m,\n",
       "        op_store_pending_promise_rejection: \u001b[36m[Function: op_store_pending_promise_rejection]\u001b[39m,\n",
       "        op_remove_pending_promise_rejection: \u001b[36m[Function: op_remove_pending_promise_rejection]\u001b[39m,\n",
       "        op_has_pending_promise_rejection: \u001b[36m[Function: op_has_pending_promise_rejection]\u001b[39m,\n",
       "        op_arraybuffer_was_detached: \u001b[36m[Function: op_arraybuffer_was_detached]\u001b[39m,\n",
       "        op_url_reparse: \u001b[36m[Function: op_url_reparse]\u001b[39m,\n",
       "        op_url_parse: \u001b[36m[Function: op_url_parse]\u001b[39m,\n",
       "        op_url_get_serialization: \u001b[36m[Function: op_url_get_serialization]\u001b[39m,\n",
       "        op_url_parse_with_base: \u001b[36m[Function: op_url_parse_with_base]\u001b[39m,\n",
       "        op_url_parse_search_params: \u001b[36m[Function: op_url_parse_search_params]\u001b[39m,\n",
       "        op_url_stringify_search_params: \u001b[36m[Function: op_url_stringify_search_params]\u001b[39m,\n",
       "        op_urlpattern_parse: \u001b[36m[Function: op_urlpattern_parse]\u001b[39m,\n",
       "        op_urlpattern_process_match_input: \u001b[36m[Function: op_urlpattern_process_match_input]\u001b[39m,\n",
       "        op_base64_decode: \u001b[36m[Function: op_base64_decode]\u001b[39m,\n",
       "        op_base64_encode: \u001b[36m[Function: op_base64_encode]\u001b[39m,\n",
       "        op_base64_atob: \u001b[36m[Function: op_base64_atob]\u001b[39m,\n",
       "        op_base64_btoa: \u001b[36m[Function: op_base64_btoa]\u001b[39m,\n",
       "        op_encoding_normalize_label: \u001b[36m[Function: op_encoding_normalize_label]\u001b[39m,\n",
       "        op_encoding_decode_single: \u001b[36m[Function: op_encoding_decode_single]\u001b[39m,\n",
       "        op_encoding_decode_utf8: \u001b[36m[Function: op_encoding_decode_utf8]\u001b[39m,\n",
       "        op_encoding_new_decoder: \u001b[36m[Function: op_encoding_new_decoder]\u001b[39m,\n",
       "        op_encoding_decode: \u001b[36m[Function: op_encoding_decode]\u001b[39m,\n",
       "        op_encoding_encode_into: \u001b[36m[Function: op_encoding_encode_into]\u001b[39m,\n",
       "        op_encode_binary_string: \u001b[36m[Function: op_encode_binary_string]\u001b[39m,\n",
       "        op_blob_create_part: \u001b[36m[Function: op_blob_create_part]\u001b[39m,\n",
       "        op_blob_slice_part: \u001b[36m[Function: op_blob_slice_part]\u001b[39m,\n",
       "        op_blob_read_part: \u001b[36m[Function: op_blob_read_part]\u001b[39m,\n",
       "        op_blob_remove_part: \u001b[36m[Function: op_blob_remove_part]\u001b[39m,\n",
       "        op_blob_create_object_url: \u001b[36m[Function: op_blob_create_object_url]\u001b[39m,\n",
       "        op_blob_revoke_object_url: \u001b[36m[Function: op_blob_revoke_object_url]\u001b[39m,\n",
       "        op_blob_from_object_url: \u001b[36m[Function: op_blob_from_object_url]\u001b[39m,\n",
       "        op_message_port_create_entangled: \u001b[36m[Function: op_message_port_create_entangled]\u001b[39m,\n",
       "        op_message_port_post_message: \u001b[36m[Function: op_message_port_post_message]\u001b[39m,\n",
       "        op_message_port_recv_message: \u001b[36m[Function: op_message_port_recv_message]\u001b[39m,\n",
       "        op_compression_new: \u001b[36m[Function: op_compression_new]\u001b[39m,\n",
       "        op_compression_write: \u001b[36m[Function: op_compression_write]\u001b[39m,\n",
       "        op_compression_finish: \u001b[36m[Function: op_compression_finish]\u001b[39m,\n",
       "        op_now: \u001b[36m[Function: op_now]\u001b[39m,\n",
       "        op_timer_handle: \u001b[36m[Function: op_timer_handle]\u001b[39m,\n",
       "        op_cancel_handle: \u001b[36m[Function: op_cancel_handle]\u001b[39m,\n",
       "        op_sleep: \u001b[36m[Function: op_sleep]\u001b[39m,\n",
       "        op_transfer_arraybuffer: \u001b[36m[Function: op_transfer_arraybuffer]\u001b[39m,\n",
       "        op_readable_stream_resource_allocate: \u001b[36m[Function: op_readable_stream_resource_allocate]\u001b[39m,\n",
       "        op_readable_stream_resource_get_sink: \u001b[36m[Function: op_readable_stream_resource_get_sink]\u001b[39m,\n",
       "        op_readable_stream_resource_write_error: \u001b[36m[Function: op_readable_stream_resource_write_error]\u001b[39m,\n",
       "        op_readable_stream_resource_write_buf: \u001b[36m[Function: op_readable_stream_resource_write_buf]\u001b[39m,\n",
       "        op_readable_stream_resource_close: \u001b[36m[Function: op_readable_stream_resource_close]\u001b[39m,\n",
       "        op_readable_stream_resource_await_close: \u001b[36m[Function: op_readable_stream_resource_await_close]\u001b[39m,\n",
       "        op_fetch: \u001b[36m[Function: op_fetch]\u001b[39m,\n",
       "        op_fetch_send: \u001b[36m[Function: op_fetch_send]\u001b[39m,\n",
       "        op_fetch_response_upgrade: \u001b[36m[Function: op_fetch_response_upgrade]\u001b[39m,\n",
       "        op_fetch_custom_client: \u001b[36m[Function: op_fetch_custom_client]\u001b[39m,\n",
       "        op_cache_storage_open: \u001b[36m[Function: op_cache_storage_open]\u001b[39m,\n",
       "        op_cache_storage_has: \u001b[36m[Function: op_cache_storage_has]\u001b[39m,\n",
       "        op_cache_storage_delete: \u001b[36m[Function: op_cache_storage_delete]\u001b[39m,\n",
       "        op_cache_put: \u001b[36m[Function: op_cache_put]\u001b[39m,\n",
       "        op_cache_put_finish: \u001b[36m[Function: op_cache_put_finish]\u001b[39m,\n",
       "        op_cache_match: \u001b[36m[Function: op_cache_match]\u001b[39m,\n",
       "        op_cache_delete: \u001b[36m[Function: op_cache_delete]\u001b[39m,\n",
       "        op_ws_check_permission_and_cancel_handle: \u001b[36m[Function: op_ws_check_permission_and_cancel_handle]\u001b[39m,\n",
       "        op_ws_create: \u001b[36m[Function: op_ws_create]\u001b[39m,\n",
       "        op_ws_close: \u001b[36m[Function: op_ws_close]\u001b[39m,\n",
       "        op_ws_next_event: \u001b[36m[Function: op_ws_next_event]\u001b[39m,\n",
       "        op_ws_get_buffer: \u001b[36m[Function: op_ws_get_buffer]\u001b[39m,\n",
       "        op_ws_get_buffer_as_string: \u001b[36m[Function: op_ws_get_buffer_as_string]\u001b[39m,\n",
       "        op_ws_get_error: \u001b[36m[Function: op_ws_get_error]\u001b[39m,\n",
       "        op_ws_send_binary: \u001b[36m[Function: op_ws_send_binary]\u001b[39m,\n",
       "        op_ws_send_text: \u001b[36m[Function: op_ws_send_text]\u001b[39m,\n",
       "        op_ws_send_binary_async: \u001b[36m[Function: op_ws_send_binary_async]\u001b[39m,\n",
       "        op_ws_send_text_async: \u001b[36m[Function: op_ws_send_text_async]\u001b[39m,\n",
       "        op_ws_send_ping: \u001b[36m[Function: op_ws_send_ping]\u001b[39m,\n",
       "        op_ws_send_pong: \u001b[36m[Function: op_ws_send_pong]\u001b[39m,\n",
       "        op_ws_get_buffered_amount: \u001b[36m[Function: op_ws_get_buffered_amount]\u001b[39m,\n",
       "        op_webstorage_length: \u001b[36m[Function: op_webstorage_length]\u001b[39m,\n",
       "        op_webstorage_key: \u001b[36m[Function: op_webstorage_key]\u001b[39m,\n",
       "        op_webstorage_set: \u001b[36m[Function: op_webstorage_set]\u001b[39m,\n",
       "        op_webstorage_get: \u001b[36m[Function: op_webstorage_get]\u001b[39m,\n",
       "        op_webstorage_remove: \u001b[36m[Function: op_webstorage_remove]\u001b[39m,\n",
       "        op_webstorage_clear: \u001b[36m[Function: op_webstorage_clear]\u001b[39m,\n",
       "        op_webstorage_iterate_keys: \u001b[36m[Function: op_webstorage_iterate_keys]\u001b[39m,\n",
       "        op_crypto_get_random_values: \u001b[36m[Function: op_crypto_get_random_values]\u001b[39m,\n",
       "        op_crypto_generate_key: \u001b[36m[Function: op_crypto_generate_key]\u001b[39m,\n",
       "        op_crypto_sign_key: \u001b[36m[Function: op_crypto_sign_key]\u001b[39m,\n",
       "        op_crypto_verify_key: \u001b[36m[Function: op_crypto_verify_key]\u001b[39m,\n",
       "        op_crypto_derive_bits: \u001b[36m[Function: op_crypto_derive_bits]\u001b[39m,\n",
       "        op_crypto_import_key: \u001b[36m[Function: op_crypto_import_key]\u001b[39m,\n",
       "        op_crypto_export_key: \u001b[36m[Function: op_crypto_export_key]\u001b[39m,\n",
       "        op_crypto_encrypt: \u001b[36m[Function: op_crypto_encrypt]\u001b[39m,\n",
       "        op_crypto_decrypt: \u001b[36m[Function: op_crypto_decrypt]\u001b[39m,\n",
       "        op_crypto_subtle_digest: \u001b[36m[Function: op_crypto_subtle_digest]\u001b[39m,\n",
       "        op_crypto_random_uuid: \u001b[36m[Function: op_crypto_random_uuid]\u001b[39m,\n",
       "        op_crypto_wrap_key: \u001b[36m[Function: op_crypto_wrap_key]\u001b[39m,\n",
       "        op_crypto_unwrap_key: \u001b[36m[Function: op_crypto_unwrap_key]\u001b[39m,\n",
       "        op_crypto_base64url_decode: \u001b[36m[Function: op_crypto_base64url_decode]\u001b[39m,\n",
       "        op_crypto_base64url_encode: \u001b[36m[Function: op_crypto_base64url_encode]\u001b[39m,\n",
       "        op_crypto_generate_x25519_keypair: \u001b[36m[Function: op_crypto_generate_x25519_keypair]\u001b[39m,\n",
       "        op_crypto_derive_bits_x25519: \u001b[36m[Function: op_crypto_derive_bits_x25519]\u001b[39m,\n",
       "        op_crypto_import_spki_x25519: \u001b[36m[Function: op_crypto_import_spki_x25519]\u001b[39m,\n",
       "        op_crypto_import_pkcs8_x25519: \u001b[36m[Function: op_crypto_import_pkcs8_x25519]\u001b[39m,\n",
       "        op_crypto_generate_ed25519_keypair: \u001b[36m[Function: op_crypto_generate_ed25519_keypair]\u001b[39m,\n",
       "        op_crypto_import_spki_ed25519: \u001b[36m[Function: op_crypto_import_spki_ed25519]\u001b[39m,\n",
       "        op_crypto_import_pkcs8_ed25519: \u001b[36m[Function: op_crypto_import_pkcs8_ed25519]\u001b[39m,\n",
       "        op_crypto_sign_ed25519: \u001b[36m[Function: op_crypto_sign_ed25519]\u001b[39m,\n",
       "        op_crypto_verify_ed25519: \u001b[36m[Function: op_crypto_verify_ed25519]\u001b[39m,\n",
       "        op_crypto_export_spki_ed25519: \u001b[36m[Function: op_crypto_export_spki_ed25519]\u001b[39m,\n",
       "        op_crypto_export_pkcs8_ed25519: \u001b[36m[Function: op_crypto_export_pkcs8_ed25519]\u001b[39m,\n",
       "        op_crypto_jwk_x_ed25519: \u001b[36m[Function: op_crypto_jwk_x_ed25519]\u001b[39m,\n",
       "        op_crypto_export_spki_x25519: \u001b[36m[Function: op_crypto_export_spki_x25519]\u001b[39m,\n",
       "        op_crypto_export_pkcs8_x25519: \u001b[36m[Function: op_crypto_export_pkcs8_x25519]\u001b[39m,\n",
       "        op_broadcast_subscribe: \u001b[36m[Function: op_broadcast_subscribe]\u001b[39m,\n",
       "        op_broadcast_unsubscribe: \u001b[36m[Function: op_broadcast_unsubscribe]\u001b[39m,\n",
       "        op_broadcast_send: \u001b[36m[Function: op_broadcast_send]\u001b[39m,\n",
       "        op_broadcast_recv: \u001b[36m[Function: op_broadcast_recv]\u001b[39m,\n",
       "        op_ffi_load: \u001b[36m[Function: op_ffi_load]\u001b[39m,\n",
       "        op_ffi_get_static: \u001b[36m[Function: op_ffi_get_static]\u001b[39m,\n",
       "        op_ffi_call_nonblocking: \u001b[36m[Function: op_ffi_call_nonblocking]\u001b[39m,\n",
       "        op_ffi_call_ptr: \u001b[36m[Function: op_ffi_call_ptr]\u001b[39m,\n",
       "        op_ffi_call_ptr_nonblocking: \u001b[36m[Function: op_ffi_call_ptr_nonblocking]\u001b[39m,\n",
       "        op_ffi_ptr_create: \u001b[36m[Function: op_ffi_ptr_create]\u001b[39m,\n",
       "        op_ffi_ptr_equals: \u001b[36m[Function: op_ffi_ptr_equals]\u001b[39m,\n",
       "        op_ffi_ptr_of: \u001b[36m[Function: op_ffi_ptr_of]\u001b[39m,\n",
       "        op_ffi_ptr_offset: \u001b[36m[Function: op_ffi_ptr_offset]\u001b[39m,\n",
       "        op_ffi_ptr_value: \u001b[36m[Function: op_ffi_ptr_value]\u001b[39m,\n",
       "        op_ffi_get_buf: \u001b[36m[Function: op_ffi_get_buf]\u001b[39m,\n",
       "        op_ffi_buf_copy_into: \u001b[36m[Function: op_ffi_buf_copy_into]\u001b[39m,\n",
       "        op_ffi_cstr_read: \u001b[36m[Function: op_ffi_cstr_read]\u001b[39m,\n",
       "        op_ffi_read_bool: \u001b[36m[Function: op_ffi_read_bool]\u001b[39m,\n",
       "        op_ffi_read_u8: \u001b[36m[Function: op_ffi_read_u8]\u001b[39m,\n",
       "        op_ffi_read_i8: \u001b[36m[Function: op_ffi_read_i8]\u001b[39m,\n",
       "        op_ffi_read_u16: \u001b[36m[Function: op_ffi_read_u16]\u001b[39m,\n",
       "        op_ffi_read_i16: \u001b[36m[Function: op_ffi_read_i16]\u001b[39m,\n",
       "        op_ffi_read_u32: \u001b[36m[Function: op_ffi_read_u32]\u001b[39m,\n",
       "        op_ffi_read_i32: \u001b[36m[Function: op_ffi_read_i32]\u001b[39m,\n",
       "        op_ffi_read_u64: \u001b[36m[Function: op_ffi_read_u64]\u001b[39m,\n",
       "        op_ffi_read_i64: \u001b[36m[Function: op_ffi_read_i64]\u001b[39m,\n",
       "        op_ffi_read_f32: \u001b[36m[Function: op_ffi_read_f32]\u001b[39m,\n",
       "        op_ffi_read_f64: \u001b[36m[Function: op_ffi_read_f64]\u001b[39m,\n",
       "        op_ffi_read_ptr: \u001b[36m[Function: op_ffi_read_ptr]\u001b[39m,\n",
       "        op_ffi_unsafe_callback_create: \u001b[36m[Function: op_ffi_unsafe_callback_create]\u001b[39m,\n",
       "        op_ffi_unsafe_callback_close: \u001b[36m[Function: op_ffi_unsafe_callback_close]\u001b[39m,\n",
       "        op_ffi_unsafe_callback_ref: \u001b[36m[Function: op_ffi_unsafe_callback_ref]\u001b[39m,\n",
       "        op_net_accept_tcp: \u001b[36m[Function: op_net_accept_tcp]\u001b[39m,\n",
       "        op_net_connect_tcp: \u001b[36m[Function: op_net_connect_tcp]\u001b[39m,\n",
       "        op_net_listen_tcp: \u001b[36m[Function: op_net_listen_tcp]\u001b[39m,\n",
       "        op_net_listen_udp: \u001b[36m[Function: op_net_listen_udp]\u001b[39m,\n",
       "        op_node_unstable_net_listen_udp: \u001b[36m[Function: op_node_unstable_net_listen_udp]\u001b[39m,\n",
       "        op_net_recv_udp: \u001b[36m[Function: op_net_recv_udp]\u001b[39m,\n",
       "        op_net_send_udp: \u001b[36m[Function: op_net_send_udp]\u001b[39m,\n",
       "        op_net_join_multi_v4_udp: \u001b[36m[Function: op_net_join_multi_v4_udp]\u001b[39m,\n",
       "        op_net_join_multi_v6_udp: \u001b[36m[Function: op_net_join_multi_v6_udp]\u001b[39m,\n",
       "        op_net_leave_multi_v4_udp: \u001b[36m[Function: op_net_leave_multi_v4_udp]\u001b[39m,\n",
       "        op_net_leave_multi_v6_udp: \u001b[36m[Function: op_net_leave_multi_v6_udp]\u001b[39m,\n",
       "        op_net_set_multi_loopback_udp: \u001b[36m[Function: op_net_set_multi_loopback_udp]\u001b[39m,\n",
       "        op_net_set_multi_ttl_udp: \u001b[36m[Function: op_net_set_multi_ttl_udp]\u001b[39m,\n",
       "        op_dns_resolve: \u001b[36m[Function: op_dns_resolve]\u001b[39m,\n",
       "        op_set_nodelay: \u001b[36m[Function: op_set_nodelay]\u001b[39m,\n",
       "        op_set_keepalive: \u001b[36m[Function: op_set_keepalive]\u001b[39m,\n",
       "        op_tls_start: \u001b[36m[Function: op_tls_start]\u001b[39m,\n",
       "        op_net_connect_tls: \u001b[36m[Function: op_net_connect_tls]\u001b[39m,\n",
       "        op_net_listen_tls: \u001b[36m[Function: op_net_listen_tls]\u001b[39m,\n",
       "        op_net_accept_tls: \u001b[36m[Function: op_net_accept_tls]\u001b[39m,\n",
       "        op_tls_handshake: \u001b[36m[Function: op_tls_handshake]\u001b[39m,\n",
       "        op_net_accept_unix: \u001b[36m[Function: op_net_accept_unix]\u001b[39m,\n",
       "        op_net_connect_unix: \u001b[36m[Function: op_net_connect_unix]\u001b[39m,\n",
       "        op_net_listen_unix: \u001b[36m[Function: op_net_listen_unix]\u001b[39m,\n",
       "        op_net_listen_unixpacket: \u001b[36m[Function: op_net_listen_unixpacket]\u001b[39m,\n",
       "        op_node_unstable_net_listen_unixpacket: \u001b[36m[Function: op_node_unstable_net_listen_unixpacket]\u001b[39m,\n",
       "        op_net_recv_unixpacket: \u001b[36m[Function: op_net_recv_unixpacket]\u001b[39m,\n",
       "        op_net_send_unixpacket: \u001b[36m[Function: op_net_send_unixpacket]\u001b[39m,\n",
       "        op_kv_database_open: \u001b[36m[Function: op_kv_database_open]\u001b[39m,\n",
       "        op_kv_snapshot_read: \u001b[36m[Function: op_kv_snapshot_read]\u001b[39m,\n",
       "        op_kv_atomic_write: \u001b[36m[Function: op_kv_atomic_write]\u001b[39m,\n",
       "        op_kv_encode_cursor: \u001b[36m[Function: op_kv_encode_cursor]\u001b[39m,\n",
       "        op_kv_dequeue_next_message: \u001b[36m[Function: op_kv_dequeue_next_message]\u001b[39m,\n",
       "        op_kv_finish_dequeued_message: \u001b[36m[Function: op_kv_finish_dequeued_message]\u001b[39m,\n",
       "        op_napi_open: \u001b[36m[Function: op_napi_open]\u001b[39m,\n",
       "        op_http_accept: \u001b[36m[Function: op_http_accept]\u001b[39m,\n",
       "        op_http_headers: \u001b[36m[Function: op_http_headers]\u001b[39m,\n",
       "        op_http_shutdown: \u001b[36m[Function: op_http_shutdown]\u001b[39m,\n",
       "        op_http_upgrade_websocket: \u001b[36m[Function: op_http_upgrade_websocket]\u001b[39m,\n",
       "        op_http_websocket_accept_header: \u001b[36m[Function: op_http_websocket_accept_header]\u001b[39m,\n",
       "        op_http_write_headers: \u001b[36m[Function: op_http_write_headers]\u001b[39m,\n",
       "        op_http_write_resource: \u001b[36m[Function: op_http_write_resource]\u001b[39m,\n",
       "        op_http_write: \u001b[36m[Function: op_http_write]\u001b[39m,\n",
       "        op_http_get_request_header: \u001b[36m[Function: op_http_get_request_header]\u001b[39m,\n",
       "        op_http_get_request_headers: \u001b[36m[Function: op_http_get_request_headers]\u001b[39m,\n",
       "        op_http_get_request_method_and_url: \u001b[36m[Function: op_http_get_request_method_and_url]\u001b[39m,\n",
       "        op_http_read_request_body: \u001b[36m[Function: op_http_read_request_body]\u001b[39m,\n",
       "        op_http_serve_on: \u001b[36m[Function: op_http_serve_on]\u001b[39m,\n",
       "        op_http_serve: \u001b[36m[Function: op_http_serve]\u001b[39m,\n",
       "        op_http_set_promise_complete: \u001b[36m[Function: op_http_set_promise_complete]\u001b[39m,\n",
       "        op_http_set_response_body_bytes: \u001b[36m[Function: op_http_set_response_body_bytes]\u001b[39m,\n",
       "        op_http_set_response_body_resource: \u001b[36m[Function: op_http_set_response_body_resource]\u001b[39m,\n",
       "        op_http_set_response_body_text: \u001b[36m[Function: op_http_set_response_body_text]\u001b[39m,\n",
       "        op_http_set_response_header: \u001b[36m[Function: op_http_set_response_header]\u001b[39m,\n",
       "        op_http_set_response_headers: \u001b[36m[Function: op_http_set_response_headers]\u001b[39m,\n",
       "        op_http_set_response_trailers: \u001b[36m[Function: op_http_set_response_trailers]\u001b[39m,\n",
       "        op_http_track: \u001b[36m[Function: op_http_track]\u001b[39m,\n",
       "        op_http_upgrade_websocket_next: \u001b[36m[Function: op_http_upgrade_websocket_next]\u001b[39m,\n",
       "        op_http_upgrade_raw: \u001b[36m[Function: op_http_upgrade_raw]\u001b[39m,\n",
       "        op_raw_write_vectored: \u001b[36m[Function: op_raw_write_vectored]\u001b[39m,\n",
       "        op_can_write_vectored: \u001b[36m[Function: op_can_write_vectored]\u001b[39m,\n",
       "        op_http_try_wait: \u001b[36m[Function: op_http_try_wait]\u001b[39m,\n",
       "        op_http_wait: \u001b[36m[Function: op_http_wait]\u001b[39m,\n",
       "        op_fs_cwd: \u001b[36m[Function: op_fs_cwd]\u001b[39m,\n",
       "        op_fs_umask: \u001b[36m[Function: op_fs_umask]\u001b[39m,\n",
       "        op_fs_chdir: \u001b[36m[Function: op_fs_chdir]\u001b[39m,\n",
       "        op_fs_open_sync: \u001b[36m[Function: op_fs_open_sync]\u001b[39m,\n",
       "        op_fs_open_async: \u001b[36m[Function: op_fs_open_async]\u001b[39m,\n",
       "        op_fs_mkdir_sync: \u001b[36m[Function: op_fs_mkdir_sync]\u001b[39m,\n",
       "        op_fs_mkdir_async: \u001b[36m[Function: op_fs_mkdir_async]\u001b[39m,\n",
       "        op_fs_chmod_sync: \u001b[36m[Function: op_fs_chmod_sync]\u001b[39m,\n",
       "        op_fs_chmod_async: \u001b[36m[Function: op_fs_chmod_async]\u001b[39m,\n",
       "        op_fs_chown_sync: \u001b[36m[Function: op_fs_chown_sync]\u001b[39m,\n",
       "        op_fs_chown_async: \u001b[36m[Function: op_fs_chown_async]\u001b[39m,\n",
       "        op_fs_remove_sync: \u001b[36m[Function: op_fs_remove_sync]\u001b[39m,\n",
       "        op_fs_remove_async: \u001b[36m[Function: op_fs_remove_async]\u001b[39m,\n",
       "        op_fs_copy_file_sync: \u001b[36m[Function: op_fs_copy_file_sync]\u001b[39m,\n",
       "        op_fs_copy_file_async: \u001b[36m[Function: op_fs_copy_file_async]\u001b[39m,\n",
       "        op_fs_stat_sync: \u001b[36m[Function: op_fs_stat_sync]\u001b[39m,\n",
       "        op_fs_stat_async: \u001b[36m[Function: op_fs_stat_async]\u001b[39m,\n",
       "        op_fs_lstat_sync: \u001b[36m[Function: op_fs_lstat_sync]\u001b[39m,\n",
       "        op_fs_lstat_async: \u001b[36m[Function: op_fs_lstat_async]\u001b[39m,\n",
       "        op_fs_realpath_sync: \u001b[36m[Function: op_fs_realpath_sync]\u001b[39m,\n",
       "        op_fs_realpath_async: \u001b[36m[Function: op_fs_realpath_async]\u001b[39m,\n",
       "        op_fs_read_dir_sync: \u001b[36m[Function: op_fs_read_dir_sync]\u001b[39m,\n",
       "        op_fs_read_dir_async: \u001b[36m[Function: op_fs_read_dir_async]\u001b[39m,\n",
       "        op_fs_rename_sync: \u001b[36m[Function: op_fs_rename_sync]\u001b[39m,\n",
       "        op_fs_rename_async: \u001b[36m[Function: op_fs_rename_async]\u001b[39m,\n",
       "        op_fs_link_sync: \u001b[36m[Function: op_fs_link_sync]\u001b[39m,\n",
       "        op_fs_link_async: \u001b[36m[Function: op_fs_link_async]\u001b[39m,\n",
       "        op_fs_symlink_sync: \u001b[36m[Function: op_fs_symlink_sync]\u001b[39m,\n",
       "        op_fs_symlink_async: \u001b[36m[Function: op_fs_symlink_async]\u001b[39m,\n",
       "        op_fs_read_link_sync: \u001b[36m[Function: op_fs_read_link_sync]\u001b[39m,\n",
       "        op_fs_read_link_async: \u001b[36m[Function: op_fs_read_link_async]\u001b[39m,\n",
       "        op_fs_truncate_sync: \u001b[36m[Function: op_fs_truncate_sync]\u001b[39m,\n",
       "        op_fs_truncate_async: \u001b[36m[Function: op_fs_truncate_async]\u001b[39m,\n",
       "        op_fs_utime_sync: \u001b[36m[Function: op_fs_utime_sync]\u001b[39m,\n",
       "        op_fs_utime_async: \u001b[36m[Function: op_fs_utime_async]\u001b[39m,\n",
       "        op_fs_make_temp_dir_sync: \u001b[36m[Function: op_fs_make_temp_dir_sync]\u001b[39m,\n",
       "        op_fs_make_temp_dir_async: \u001b[36m[Function: op_fs_make_temp_dir_async]\u001b[39m,\n",
       "        op_fs_make_temp_file_sync: \u001b[36m[Function: op_fs_make_temp_file_sync]\u001b[39m,\n",
       "        op_fs_make_temp_file_async: \u001b[36m[Function: op_fs_make_temp_file_async]\u001b[39m,\n",
       "        op_fs_write_file_sync: \u001b[36m[Function: op_fs_write_file_sync]\u001b[39m,\n",
       "        op_fs_write_file_async: \u001b[36m[Function: op_fs_write_file_async]\u001b[39m,\n",
       "        op_fs_read_file_sync: \u001b[36m[Function: op_fs_read_file_sync]\u001b[39m,\n",
       "        op_fs_read_file_async: \u001b[36m[Function: op_fs_read_file_async]\u001b[39m,\n",
       "        op_fs_read_file_text_sync: \u001b[36m[Function: op_fs_read_file_text_sync]\u001b[39m,\n",
       "        op_fs_read_file_text_async: \u001b[36m[Function: op_fs_read_file_text_async]\u001b[39m,\n",
       "        op_fs_seek_sync: \u001b[36m[Function: op_fs_seek_sync]\u001b[39m,\n",
       "        op_fs_seek_async: \u001b[36m[Function: op_fs_seek_async]\u001b[39m,\n",
       "        op_fs_fdatasync_sync: \u001b[36m[Function: op_fs_fdatasync_sync]\u001b[39m,\n",
       "        op_fs_fdatasync_async: \u001b[36m[Function: op_fs_fdatasync_async]\u001b[39m,\n",
       "        op_fs_fsync_sync: \u001b[36m[Function: op_fs_fsync_sync]\u001b[39m,\n",
       "        op_fs_fsync_async: \u001b[36m[Function: op_fs_fsync_async]\u001b[39m,\n",
       "        op_fs_fstat_sync: \u001b[36m[Function: op_fs_fstat_sync]\u001b[39m,\n",
       "        op_fs_fstat_async: \u001b[36m[Function: op_fs_fstat_async]\u001b[39m,\n",
       "        op_fs_flock_sync: \u001b[36m[Function: op_fs_flock_sync]\u001b[39m,\n",
       "        op_fs_flock_async: \u001b[36m[Function: op_fs_flock_async]\u001b[39m,\n",
       "        op_fs_funlock_sync: \u001b[36m[Function: op_fs_funlock_sync]\u001b[39m,\n",
       "        op_fs_funlock_async: \u001b[36m[Function: op_fs_funlock_async]\u001b[39m,\n",
       "        op_fs_ftruncate_sync: \u001b[36m[Function: op_fs_ftruncate_sync]\u001b[39m,\n",
       "        op_fs_ftruncate_async: \u001b[36m[Function: op_fs_ftruncate_async]\u001b[39m,\n",
       "        op_fs_futime_sync: \u001b[36m[Function: op_fs_futime_sync]\u001b[39m,\n",
       "        op_fs_futime_async: \u001b[36m[Function: op_fs_futime_async]\u001b[39m,\n",
       "        op_node_create_decipheriv: \u001b[36m[Function: op_node_create_decipheriv]\u001b[39m,\n",
       "        op_node_cipheriv_encrypt: \u001b[36m[Function: op_node_cipheriv_encrypt]\u001b[39m,\n",
       "        op_node_cipheriv_final: \u001b[36m[Function: op_node_cipheriv_final]\u001b[39m,\n",
       "        op_node_create_cipheriv: \u001b[36m[Function: op_node_create_cipheriv]\u001b[39m,\n",
       "        op_node_create_hash: \u001b[36m[Function: op_node_create_hash]\u001b[39m,\n",
       "        op_node_get_hashes: \u001b[36m[Function: op_node_get_hashes]\u001b[39m,\n",
       "        op_node_decipheriv_decrypt: \u001b[36m[Function: op_node_decipheriv_decrypt]\u001b[39m,\n",
       "        op_node_decipheriv_final: \u001b[36m[Function: op_node_decipheriv_final]\u001b[39m,\n",
       "        op_node_hash_update: \u001b[36m[Function: op_node_hash_update]\u001b[39m,\n",
       "        op_node_hash_update_str: \u001b[36m[Function: op_node_hash_update_str]\u001b[39m,\n",
       "        op_node_hash_digest: \u001b[36m[Function: op_node_hash_digest]\u001b[39m,\n",
       "        op_node_hash_digest_hex: \u001b[36m[Function: op_node_hash_digest_hex]\u001b[39m,\n",
       "        op_node_hash_clone: \u001b[36m[Function: op_node_hash_clone]\u001b[39m,\n",
       "        op_node_private_encrypt: \u001b[36m[Function: op_node_private_encrypt]\u001b[39m,\n",
       "        op_node_private_decrypt: \u001b[36m[Function: op_node_private_decrypt]\u001b[39m,\n",
       "        op_node_public_encrypt: \u001b[36m[Function: op_node_public_encrypt]\u001b[39m,\n",
       "        op_node_check_prime: \u001b[36m[Function: op_node_check_prime]\u001b[39m,\n",
       "        op_node_check_prime_async: \u001b[36m[Function: op_node_check_prime_async]\u001b[39m,\n",
       "        op_node_check_prime_bytes: \u001b[36m[Function: op_node_check_prime_bytes]\u001b[39m,\n",
       "        op_node_check_prime_bytes_async: \u001b[36m[Function: op_node_check_prime_bytes_async]\u001b[39m,\n",
       "        op_node_gen_prime: \u001b[36m[Function: op_node_gen_prime]\u001b[39m,\n",
       "        op_node_gen_prime_async: \u001b[36m[Function: op_node_gen_prime_async]\u001b[39m,\n",
       "        op_node_pbkdf2: \u001b[36m[Function: op_node_pbkdf2]\u001b[39m,\n",
       "        op_node_pbkdf2_async: \u001b[36m[Function: op_node_pbkdf2_async]\u001b[39m,\n",
       "        op_node_hkdf: \u001b[36m[Function: op_node_hkdf]\u001b[39m,\n",
       "        op_node_hkdf_async: \u001b[36m[Function: op_node_hkdf_async]\u001b[39m,\n",
       "        op_node_generate_secret: \u001b[36m[Function: op_node_generate_secret]\u001b[39m,\n",
       "        op_node_generate_secret_async: \u001b[36m[Function: op_node_generate_secret_async]\u001b[39m,\n",
       "        op_node_sign: \u001b[36m[Function: op_node_sign]\u001b[39m,\n",
       "        op_node_generate_rsa: \u001b[36m[Function: op_node_generate_rsa]\u001b[39m,\n",
       "        op_node_generate_rsa_async: \u001b[36m[Function: op_node_generate_rsa_async]\u001b[39m,\n",
       "        op_node_dsa_generate: \u001b[36m[Function: op_node_dsa_generate]\u001b[39m,\n",
       "        op_node_dsa_generate_async: \u001b[36m[Function: op_node_dsa_generate_async]\u001b[39m,\n",
       "        op_node_ec_generate: \u001b[36m[Function: op_node_ec_generate]\u001b[39m,\n",
       "        op_node_ec_generate_async: \u001b[36m[Function: op_node_ec_generate_async]\u001b[39m,\n",
       "        op_node_ed25519_generate: \u001b[36m[Function: op_node_ed25519_generate]\u001b[39m,\n",
       "        op_node_ed25519_generate_async: \u001b[36m[Function: op_node_ed25519_generate_async]\u001b[39m,\n",
       "        op_node_x25519_generate: \u001b[36m[Function: op_node_x25519_generate]\u001b[39m,\n",
       "        op_node_x25519_generate_async: \u001b[36m[Function: op_node_x25519_generate_async]\u001b[39m,\n",
       "        op_node_dh_generate_group: \u001b[36m[Function: op_node_dh_generate_group]\u001b[39m,\n",
       "        op_node_dh_generate_group_async: \u001b[36m[Function: op_node_dh_generate_group_async]\u001b[39m,\n",
       "        op_node_dh_generate: \u001b[36m[Function: op_node_dh_generate]\u001b[39m,\n",
       "        op_node_dh_generate2: \u001b[36m[Function: op_node_dh_generate2]\u001b[39m,\n",
       "        op_node_dh_compute_secret: \u001b[36m[Function: op_node_dh_compute_secret]\u001b[39m,\n",
       "        op_node_dh_generate_async: \u001b[36m[Function: op_node_dh_generate_async]\u001b[39m,\n",
       "        op_node_verify: \u001b[36m[Function: op_node_verify]\u001b[39m,\n",
       "        op_node_random_int: \u001b[36m[Function: op_node_random_int]\u001b[39m,\n",
       "        op_node_scrypt_sync: \u001b[36m[Function: op_node_scrypt_sync]\u001b[39m,\n",
       "        op_node_scrypt_async: \u001b[36m[Function: op_node_scrypt_async]\u001b[39m,\n",
       "        op_node_ecdh_generate_keys: \u001b[36m[Function: op_node_ecdh_generate_keys]\u001b[39m,\n",
       "        op_node_ecdh_compute_secret: \u001b[36m[Function: op_node_ecdh_compute_secret]\u001b[39m,\n",
       "        op_node_ecdh_compute_public_key: \u001b[36m[Function: op_node_ecdh_compute_public_key]\u001b[39m,\n",
       "        op_node_x509_parse: \u001b[36m[Function: op_node_x509_parse]\u001b[39m,\n",
       "        op_node_x509_ca: \u001b[36m[Function: op_node_x509_ca]\u001b[39m,\n",
       "        op_node_x509_check_email: \u001b[36m[Function: op_node_x509_check_email]\u001b[39m,\n",
       "        op_node_x509_fingerprint: \u001b[36m[Function: op_node_x509_fingerprint]\u001b[39m,\n",
       "        op_node_x509_fingerprint256: \u001b[36m[Function: op_node_x509_fingerprint256]\u001b[39m,\n",
       "        op_node_x509_fingerprint512: \u001b[36m[Function: op_node_x509_fingerprint512]\u001b[39m,\n",
       "        op_node_x509_get_issuer: \u001b[36m[Function: op_node_x509_get_issuer]\u001b[39m,\n",
       "        op_node_x509_get_subject: \u001b[36m[Function: op_node_x509_get_subject]\u001b[39m,\n",
       "        op_node_x509_get_valid_from: \u001b[36m[Function: op_node_x509_get_valid_from]\u001b[39m,\n",
       "        op_node_x509_get_valid_to: \u001b[36m[Function: op_node_x509_get_valid_to]\u001b[39m,\n",
       "        op_node_x509_get_serial_number: \u001b[36m[Function: op_node_x509_get_serial_number]\u001b[39m,\n",
       "        op_node_x509_key_usage: \u001b[36m[Function: op_node_x509_key_usage]\u001b[39m,\n",
       "        op_node_sys_to_uv_error: \u001b[36m[Function: op_node_sys_to_uv_error]\u001b[39m,\n",
       "        op_v8_cached_data_version_tag: \u001b[36m[Function: op_v8_cached_data_version_tag]\u001b[39m,\n",
       "        op_v8_get_heap_statistics: \u001b[36m[Function: op_v8_get_heap_statistics]\u001b[39m,\n",
       "        op_node_idna_domain_to_ascii: \u001b[36m[Function: op_node_idna_domain_to_ascii]\u001b[39m,\n",
       "        op_node_idna_domain_to_unicode: \u001b[36m[Function: op_node_idna_domain_to_unicode]\u001b[39m,\n",
       "        op_node_idna_punycode_decode: \u001b[36m[Function: op_node_idna_punycode_decode]\u001b[39m,\n",
       "        op_node_idna_punycode_encode: \u001b[36m[Function: op_node_idna_punycode_encode]\u001b[39m,\n",
       "        op_zlib_new: \u001b[36m[Function: op_zlib_new]\u001b[39m,\n",
       "        op_zlib_close: \u001b[36m[Function: op_zlib_close]\u001b[39m,\n",
       "        op_zlib_close_if_pending: \u001b[36m[Function: op_zlib_close_if_pending]\u001b[39m,\n",
       "        op_zlib_write: \u001b[36m[Function: op_zlib_write]\u001b[39m,\n",
       "        op_zlib_write_async: \u001b[36m[Function: op_zlib_write_async]\u001b[39m,\n",
       "        op_zlib_init: \u001b[36m[Function: op_zlib_init]\u001b[39m,\n",
       "        op_zlib_reset: \u001b[36m[Function: op_zlib_reset]\u001b[39m,\n",
       "        op_brotli_compress: \u001b[36m[Function: op_brotli_compress]\u001b[39m,\n",
       "        op_brotli_compress_async: \u001b[36m[Function: op_brotli_compress_async]\u001b[39m,\n",
       "        op_create_brotli_compress: \u001b[36m[Function: op_create_brotli_compress]\u001b[39m,\n",
       "        op_brotli_compress_stream: \u001b[36m[Function: op_brotli_compress_stream]\u001b[39m,\n",
       "        op_brotli_compress_stream_end: \u001b[36m[Function: op_brotli_compress_stream_end]\u001b[39m,\n",
       "        op_brotli_decompress: \u001b[36m[Function: op_brotli_decompress]\u001b[39m,\n",
       "        op_brotli_decompress_async: \u001b[36m[Function: op_brotli_decompress_async]\u001b[39m,\n",
       "        op_create_brotli_decompress: \u001b[36m[Function: op_create_brotli_decompress]\u001b[39m,\n",
       "        op_brotli_decompress_stream: \u001b[36m[Function: op_brotli_decompress_stream]\u001b[39m,\n",
       "        op_brotli_decompress_stream_end: \u001b[36m[Function: op_brotli_decompress_stream_end]\u001b[39m,\n",
       "        op_node_http_request: \u001b[36m[Function: op_node_http_request]\u001b[39m,\n",
       "        op_node_os_get_priority: \u001b[36m[Function: op_node_os_get_priority]\u001b[39m,\n",
       "        op_node_os_set_priority: \u001b[36m[Function: op_node_os_set_priority]\u001b[39m,\n",
       "        op_node_os_username: \u001b[36m[Function: op_node_os_username]\u001b[39m,\n",
       "        op_node_build_os: \u001b[36m[Function: op_node_build_os]\u001b[39m,\n",
       "        op_is_any_arraybuffer: \u001b[36m[Function: op_is_any_arraybuffer]\u001b[39m,\n",
       "        op_node_is_promise_rejected: \u001b[36m[Function: op_node_is_promise_rejected]\u001b[39m,\n",
       "        op_require_init_paths: \u001b[36m[Function: op_require_init_paths]\u001b[39m,\n",
       "        op_require_node_module_paths: \u001b[36m[Function: op_require_node_module_paths]\u001b[39m,\n",
       "        op_require_proxy_path: \u001b[36m[Function: op_require_proxy_path]\u001b[39m,\n",
       "        op_require_is_deno_dir_package: \u001b[36m[Function: op_require_is_deno_dir_package]\u001b[39m,\n",
       "        op_require_resolve_deno_dir: \u001b[36m[Function: op_require_resolve_deno_dir]\u001b[39m,\n",
       "        op_require_is_request_relative: \u001b[36m[Function: op_require_is_request_relative]\u001b[39m,\n",
       "        op_require_resolve_lookup_paths: \u001b[36m[Function: op_require_resolve_lookup_paths]\u001b[39m,\n",
       "        op_require_try_self_parent_path: \u001b[36m[Function: op_require_try_self_parent_path]\u001b[39m,\n",
       "        op_require_try_self: \u001b[36m[Function: op_require_try_self]\u001b[39m,\n",
       "        op_require_real_path: \u001b[36m[Function: op_require_real_path]\u001b[39m,\n",
       "        op_require_path_is_absolute: \u001b[36m[Function: op_require_path_is_absolute]\u001b[39m,\n",
       "        op_require_path_dirname: \u001b[36m[Function: op_require_path_dirname]\u001b[39m,\n",
       "        op_require_stat: \u001b[36m[Function: op_require_stat]\u001b[39m,\n",
       "        op_require_path_resolve: \u001b[36m[Function: op_require_path_resolve]\u001b[39m,\n",
       "        op_require_path_basename: \u001b[36m[Function: op_require_path_basename]\u001b[39m,\n",
       "        op_require_read_file: \u001b[36m[Function: op_require_read_file]\u001b[39m,\n",
       "        op_require_as_file_path: \u001b[36m[Function: op_require_as_file_path]\u001b[39m,\n",
       "        op_require_resolve_exports: \u001b[36m[Function: op_require_resolve_exports]\u001b[39m,\n",
       "        op_require_read_closest_package_json: \u001b[36m[Function: op_require_read_closest_package_json]\u001b[39m,\n",
       "        op_require_read_package_scope: \u001b[36m[Function: op_require_read_package_scope]\u001b[39m,\n",
       "        op_require_package_imports_resolve: \u001b[36m[Function: op_require_package_imports_resolve]\u001b[39m,\n",
       "        op_require_break_on_next_statement: \u001b[36m[Function: op_require_break_on_next_statement]\u001b[39m,\n",
       "        op_main_module: \u001b[36m[Function: op_main_module]\u001b[39m,\n",
       "        op_ppid: \u001b[36m[Function: op_ppid]\u001b[39m,\n",
       "        op_create_worker: \u001b[36m[Function: op_create_worker]\u001b[39m,\n",
       "        op_host_terminate_worker: \u001b[36m[Function: op_host_terminate_worker]\u001b[39m,\n",
       "        op_host_post_message: \u001b[36m[Function: op_host_post_message]\u001b[39m,\n",
       "        op_host_recv_ctrl: \u001b[36m[Function: fn]\u001b[39m,\n",
       "        op_host_recv_message: \u001b[36m[Function: fn]\u001b[39m,\n",
       "        op_fs_events_open: \u001b[36m[Function: op_fs_events_open]\u001b[39m,\n",
       "        op_fs_events_poll: \u001b[36m[Function: fn]\u001b[39m,\n",
       "        op_env: \u001b[36m[Function: op_env]\u001b[39m,\n",
       "        op_exec_path: \u001b[36m[Function: op_exec_path]\u001b[39m,\n",
       "        op_exit: \u001b[36m[Function: op_exit]\u001b[39m,\n",
       "        op_delete_env: \u001b[36m[Function: op_delete_env]\u001b[39m,\n",
       "        op_get_env: \u001b[36m[Function: op_get_env]\u001b[39m,\n",
       "        op_gid: \u001b[36m[Function: op_gid]\u001b[39m,\n",
       "        op_hostname: \u001b[36m[Function: op_hostname]\u001b[39m,\n",
       "        op_loadavg: \u001b[36m[Function: op_loadavg]\u001b[39m,\n",
       "        op_network_interfaces: \u001b[36m[Function: op_network_interfaces]\u001b[39m,\n",
       "        op_os_release: \u001b[36m[Function: op_os_release]\u001b[39m,\n",
       "        op_os_uptime: \u001b[36m[Function: op_os_uptime]\u001b[39m,\n",
       "        op_node_unstable_os_uptime: \u001b[36m[Function: op_node_unstable_os_uptime]\u001b[39m,\n",
       "        op_set_env: \u001b[36m[Function: op_set_env]\u001b[39m,\n",
       "        op_set_exit_code: \u001b[36m[Function: op_set_exit_code]\u001b[39m,\n",
       "        op_system_memory_info: \u001b[36m[Function: op_system_memory_info]\u001b[39m,\n",
       "        op_uid: \u001b[36m[Function: op_uid]\u001b[39m,\n",
       "        op_runtime_memory_usage: \u001b[36m[Function: op_runtime_memory_usage]\u001b[39m,\n",
       "        op_query_permission: \u001b[36m[Function: op_query_permission]\u001b[39m,\n",
       "        op_revoke_permission: \u001b[36m[Function: op_revoke_permission]\u001b[39m,\n",
       "        op_request_permission: \u001b[36m[Function: op_request_permission]\u001b[39m,\n",
       "        op_spawn_child: \u001b[36m[Function: op_spawn_child]\u001b[39m,\n",
       "        op_spawn_wait: \u001b[36m[Function: fn]\u001b[39m,\n",
       "        op_spawn_sync: \u001b[36m[Function: op_spawn_sync]\u001b[39m,\n",
       "        op_spawn_kill: \u001b[36m[Function: op_spawn_kill]\u001b[39m,\n",
       "        op_run: \u001b[36m[Function: op_run]\u001b[39m,\n",
       "        op_run_status: \u001b[36m[Function: fn]\u001b[39m,\n",
       "        op_kill: \u001b[36m[Function: op_kill]\u001b[39m,\n",
       "        op_signal_bind: \u001b[36m[Function: op_signal_bind]\u001b[39m,\n",
       "        op_signal_unbind: \u001b[36m[Function: op_signal_unbind]\u001b[39m,\n",
       "        op_signal_poll: \u001b[36m[Function: fn]\u001b[39m,\n",
       "        op_stdin_set_raw: \u001b[36m[Function: op_stdin_set_raw]\u001b[39m,\n",
       "        op_isatty: \u001b[36m[Function: op_isatty]\u001b[39m,\n",
       "        op_console_size: \u001b[36m[Function: op_console_size]\u001b[39m,\n",
       "        op_http_start: \u001b[36m[Function: op_http_start]\u001b[39m,\n",
       "        op_http_upgrade: \u001b[36m[Function: fn]\u001b[39m,\n",
       "        op_npm_process_state: \u001b[36m[Function: op_npm_process_state]\u001b[39m\n",
       "      },\n",
       "      asyncOps: {\n",
       "        op_error_async: \u001b[36m[Function: op_error_async]\u001b[39m,\n",
       "        op_error_async_deferred: \u001b[36m[Function: op_error_async_deferred]\u001b[39m,\n",
       "        op_void_async: \u001b[36m[Function: op_void_async]\u001b[39m,\n",
       "        op_void_async_deferred: \u001b[36m[Function: op_void_async_deferred]\u001b[39m,\n",
       "        op_add_async: \u001b[36m[Function: op_add_async]\u001b[39m,\n",
       "        op_read: \u001b[36m[Function: op_read]\u001b[39m,\n",
       "        op_read_all: \u001b[36m[Function: op_read_all]\u001b[39m,\n",
       "        op_write: \u001b[36m[Function: op_write]\u001b[39m,\n",
       "        op_write_all: \u001b[36m[Function: op_write_all]\u001b[39m,\n",
       "        op_write_type_error: \u001b[36m[Function: op_write_type_error]\u001b[39m,\n",
       "        op_shutdown: \u001b[36m[Function: op_shutdown]\u001b[39m,\n",
       "        op_blob_read_part: \u001b[36m[Function: op_blob_read_part]\u001b[39m,\n",
       "        op_message_port_recv_message: \u001b[36m[Function: op_message_port_recv_message]\u001b[39m,\n",
       "        op_sleep: \u001b[36m[Function: op_sleep]\u001b[39m,\n",
       "        op_readable_stream_resource_write_error: \u001b[36m[Function: op_readable_stream_resource_write_error]\u001b[39m,\n",
       "        op_readable_stream_resource_write_buf: \u001b[36m[Function: op_readable_stream_resource_write_buf]\u001b[39m,\n",
       "        op_readable_stream_resource_await_close: \u001b[36m[Function: op_readable_stream_resource_await_close]\u001b[39m,\n",
       "        op_fetch_send: \u001b[36m[Function: op_fetch_send]\u001b[39m,\n",
       "        op_fetch_response_upgrade: \u001b[36m[Function: op_fetch_response_upgrade]\u001b[39m,\n",
       "        op_cache_storage_open: \u001b[36m[Function: op_cache_storage_open]\u001b[39m,\n",
       "        op_cache_storage_has: \u001b[36m[Function: op_cache_storage_has]\u001b[39m,\n",
       "        op_cache_storage_delete: \u001b[36m[Function: op_cache_storage_delete]\u001b[39m,\n",
       "        op_cache_put: \u001b[36m[Function: op_cache_put]\u001b[39m,\n",
       "        op_cache_put_finish: \u001b[36m[Function: op_cache_put_finish]\u001b[39m,\n",
       "        op_cache_match: \u001b[36m[Function: op_cache_match]\u001b[39m,\n",
       "        op_cache_delete: \u001b[36m[Function: op_cache_delete]\u001b[39m,\n",
       "        op_ws_create: \u001b[36m[Function: op_ws_create]\u001b[39m,\n",
       "        op_ws_close: \u001b[36m[Function: op_ws_close]\u001b[39m,\n",
       "        op_ws_next_event: \u001b[36m[Function: op_ws_next_event]\u001b[39m,\n",
       "        op_ws_send_binary_async: \u001b[36m[Function: op_ws_send_binary_async]\u001b[39m,\n",
       "        op_ws_send_text_async: \u001b[36m[Function: op_ws_send_text_async]\u001b[39m,\n",
       "        op_ws_send_ping: \u001b[36m[Function: op_ws_send_ping]\u001b[39m,\n",
       "        op_ws_send_pong: \u001b[36m[Function: op_ws_send_pong]\u001b[39m,\n",
       "        op_crypto_generate_key: \u001b[36m[Function: op_crypto_generate_key]\u001b[39m,\n",
       "        op_crypto_sign_key: \u001b[36m[Function: op_crypto_sign_key]\u001b[39m,\n",
       "        op_crypto_verify_key: \u001b[36m[Function: op_crypto_verify_key]\u001b[39m,\n",
       "        op_crypto_derive_bits: \u001b[36m[Function: op_crypto_derive_bits]\u001b[39m,\n",
       "        op_crypto_encrypt: \u001b[36m[Function: op_crypto_encrypt]\u001b[39m,\n",
       "        op_crypto_decrypt: \u001b[36m[Function: op_crypto_decrypt]\u001b[39m,\n",
       "        op_crypto_subtle_digest: \u001b[36m[Function: op_crypto_subtle_digest]\u001b[39m,\n",
       "        op_broadcast_send: \u001b[36m[Function: op_broadcast_send]\u001b[39m,\n",
       "        op_broadcast_recv: \u001b[36m[Function: op_broadcast_recv]\u001b[39m,\n",
       "        op_ffi_call_nonblocking: \u001b[36m[Function: op_ffi_call_nonblocking]\u001b[39m,\n",
       "        op_ffi_call_ptr_nonblocking: \u001b[36m[Function: op_ffi_call_ptr_nonblocking]\u001b[39m,\n",
       "        op_ffi_unsafe_callback_ref: \u001b[36m[Function: op_ffi_unsafe_callback_ref]\u001b[39m,\n",
       "        op_net_accept_tcp: \u001b[36m[Function: op_net_accept_tcp]\u001b[39m,\n",
       "        op_net_connect_tcp: \u001b[36m[Function: op_net_connect_tcp]\u001b[39m,\n",
       "        op_net_recv_udp: \u001b[36m[Function: op_net_recv_udp]\u001b[39m,\n",
       "        op_net_send_udp: \u001b[36m[Function: op_net_send_udp]\u001b[39m,\n",
       "        op_net_join_multi_v4_udp: \u001b[36m[Function: op_net_join_multi_v4_udp]\u001b[39m,\n",
       "        op_net_join_multi_v6_udp: \u001b[36m[Function: op_net_join_multi_v6_udp]\u001b[39m,\n",
       "        op_net_leave_multi_v4_udp: \u001b[36m[Function: op_net_leave_multi_v4_udp]\u001b[39m,\n",
       "        op_net_leave_multi_v6_udp: \u001b[36m[Function: op_net_leave_multi_v6_udp]\u001b[39m,\n",
       "        op_net_set_multi_loopback_udp: \u001b[36m[Function: op_net_set_multi_loopback_udp]\u001b[39m,\n",
       "        op_net_set_multi_ttl_udp: \u001b[36m[Function: op_net_set_multi_ttl_udp]\u001b[39m,\n",
       "        op_dns_resolve: \u001b[36m[Function: op_dns_resolve]\u001b[39m,\n",
       "        op_tls_start: \u001b[36m[Function: op_tls_start]\u001b[39m,\n",
       "        op_net_connect_tls: \u001b[36m[Function: op_net_connect_tls]\u001b[39m,\n",
       "        op_net_accept_tls: \u001b[36m[Function: op_net_accept_tls]\u001b[39m,\n",
       "        op_tls_handshake: \u001b[36m[Function: op_tls_handshake]\u001b[39m,\n",
       "        op_net_accept_unix: \u001b[36m[Function: op_net_accept_unix]\u001b[39m,\n",
       "        op_net_connect_unix: \u001b[36m[Function: op_net_connect_unix]\u001b[39m,\n",
       "        op_net_recv_unixpacket: \u001b[36m[Function: op_net_recv_unixpacket]\u001b[39m,\n",
       "        op_net_send_unixpacket: \u001b[36m[Function: op_net_send_unixpacket]\u001b[39m,\n",
       "        op_kv_database_open: \u001b[36m[Function: op_kv_database_open]\u001b[39m,\n",
       "        op_kv_snapshot_read: \u001b[36m[Function: op_kv_snapshot_read]\u001b[39m,\n",
       "        op_kv_atomic_write: \u001b[36m[Function: op_kv_atomic_write]\u001b[39m,\n",
       "        op_kv_dequeue_next_message: \u001b[36m[Function: op_kv_dequeue_next_message]\u001b[39m,\n",
       "        op_kv_finish_dequeued_message: \u001b[36m[Function: op_kv_finish_dequeued_message]\u001b[39m,\n",
       "        op_http_accept: \u001b[36m[Function: op_http_accept]\u001b[39m,\n",
       "        op_http_shutdown: \u001b[36m[Function: op_http_shutdown]\u001b[39m,\n",
       "        op_http_upgrade_websocket: \u001b[36m[Function: op_http_upgrade_websocket]\u001b[39m,\n",
       "        op_http_write_headers: \u001b[36m[Function: op_http_write_headers]\u001b[39m,\n",
       "        op_http_write_resource: \u001b[36m[Function: op_http_write_resource]\u001b[39m,\n",
       "        op_http_write: \u001b[36m[Function: op_http_write]\u001b[39m,\n",
       "        op_http_track: \u001b[36m[Function: op_http_track]\u001b[39m,\n",
       "        op_http_upgrade_websocket_next: \u001b[36m[Function: op_http_upgrade_websocket_next]\u001b[39m,\n",
       "        op_raw_write_vectored: \u001b[36m[Function: op_raw_write_vectored]\u001b[39m,\n",
       "        op_http_wait: \u001b[36m[Function: op_http_wait]\u001b[39m,\n",
       "        op_fs_open_async: \u001b[36m[Function: op_fs_open_async]\u001b[39m,\n",
       "        op_fs_mkdir_async: \u001b[36m[Function: op_fs_mkdir_async]\u001b[39m,\n",
       "        op_fs_chmod_async: \u001b[36m[Function: op_fs_chmod_async]\u001b[39m,\n",
       "        op_fs_chown_async: \u001b[36m[Function: op_fs_chown_async]\u001b[39m,\n",
       "        op_fs_remove_async: \u001b[36m[Function: op_fs_remove_async]\u001b[39m,\n",
       "        op_fs_copy_file_async: \u001b[36m[Function: op_fs_copy_file_async]\u001b[39m,\n",
       "        op_fs_stat_async: \u001b[36m[Function: op_fs_stat_async]\u001b[39m,\n",
       "        op_fs_lstat_async: \u001b[36m[Function: op_fs_lstat_async]\u001b[39m,\n",
       "        op_fs_realpath_async: \u001b[36m[Function: op_fs_realpath_async]\u001b[39m,\n",
       "        op_fs_read_dir_async: \u001b[36m[Function: op_fs_read_dir_async]\u001b[39m,\n",
       "        op_fs_rename_async: \u001b[36m[Function: op_fs_rename_async]\u001b[39m,\n",
       "        op_fs_link_async: \u001b[36m[Function: op_fs_link_async]\u001b[39m,\n",
       "        op_fs_symlink_async: \u001b[36m[Function: op_fs_symlink_async]\u001b[39m,\n",
       "        op_fs_read_link_async: \u001b[36m[Function: op_fs_read_link_async]\u001b[39m,\n",
       "        op_fs_truncate_async: \u001b[36m[Function: op_fs_truncate_async]\u001b[39m,\n",
       "        op_fs_utime_async: \u001b[36m[Function: op_fs_utime_async]\u001b[39m,\n",
       "        op_fs_make_temp_dir_async: \u001b[36m[Function: op_fs_make_temp_dir_async]\u001b[39m,\n",
       "        op_fs_make_temp_file_async: \u001b[36m[Function: op_fs_make_temp_file_async]\u001b[39m,\n",
       "        op_fs_write_file_async: \u001b[36m[Function: op_fs_write_file_async]\u001b[39m,\n",
       "        op_fs_read_file_async: \u001b[36m[Function: op_fs_read_file_async]\u001b[39m,\n",
       "        op_fs_read_file_text_async: \u001b[36m[Function: op_fs_read_file_text_async]\u001b[39m,\n",
       "        op_fs_seek_async: \u001b[36m[Function: op_fs_seek_async]\u001b[39m,\n",
       "        op_fs_fdatasync_async: \u001b[36m[Function: op_fs_fdatasync_async]\u001b[39m,\n",
       "        op_fs_fsync_async: \u001b[36m[Function: op_fs_fsync_async]\u001b[39m,\n",
       "        op_fs_fstat_async: \u001b[36m[Function: op_fs_fstat_async]\u001b[39m,\n",
       "        op_fs_flock_async: \u001b[36m[Function: op_fs_flock_async]\u001b[39m,\n",
       "        op_fs_funlock_async: \u001b[36m[Function: op_fs_funlock_async]\u001b[39m,\n",
       "        op_fs_ftruncate_async: \u001b[36m[Function: op_fs_ftruncate_async]\u001b[39m,\n",
       "        op_fs_futime_async: \u001b[36m[Function: op_fs_futime_async]\u001b[39m,\n",
       "        op_node_check_prime_async: \u001b[36m[Function: op_node_check_prime_async]\u001b[39m,\n",
       "        op_node_check_prime_bytes_async: \u001b[36m[Function: op_node_check_prime_bytes_async]\u001b[39m,\n",
       "        op_node_gen_prime_async: \u001b[36m[Function: op_node_gen_prime_async]\u001b[39m,\n",
       "        op_node_pbkdf2_async: \u001b[36m[Function: op_node_pbkdf2_async]\u001b[39m,\n",
       "        op_node_hkdf_async: \u001b[36m[Function: op_node_hkdf_async]\u001b[39m,\n",
       "        op_node_generate_secret_async: \u001b[36m[Function: op_node_generate_secret_async]\u001b[39m,\n",
       "        op_node_generate_rsa_async: \u001b[36m[Function: op_node_generate_rsa_async]\u001b[39m,\n",
       "        op_node_dsa_generate_async: \u001b[36m[Function: op_node_dsa_generate_async]\u001b[39m,\n",
       "        op_node_ec_generate_async: \u001b[36m[Function: op_node_ec_generate_async]\u001b[39m,\n",
       "        op_node_ed25519_generate_async: \u001b[36m[Function: op_node_ed25519_generate_async]\u001b[39m,\n",
       "        op_node_x25519_generate_async: \u001b[36m[Function: op_node_x25519_generate_async]\u001b[39m,\n",
       "        op_node_dh_generate_group_async: \u001b[36m[Function: op_node_dh_generate_group_async]\u001b[39m,\n",
       "        op_node_dh_generate_async: \u001b[36m[Function: op_node_dh_generate_async]\u001b[39m,\n",
       "        op_node_scrypt_async: \u001b[36m[Function: op_node_scrypt_async]\u001b[39m,\n",
       "        op_zlib_write_async: \u001b[36m[Function: op_zlib_write_async]\u001b[39m,\n",
       "        op_brotli_compress_async: \u001b[36m[Function: op_brotli_compress_async]\u001b[39m,\n",
       "        op_brotli_decompress_async: \u001b[36m[Function: op_brotli_decompress_async]\u001b[39m,\n",
       "        op_host_recv_ctrl: \u001b[36m[Function: op_host_recv_ctrl]\u001b[39m,\n",
       "        op_host_recv_message: \u001b[36m[Function: op_host_recv_message]\u001b[39m,\n",
       "        op_fs_events_poll: \u001b[36m[Function: op_fs_events_poll]\u001b[39m,\n",
       "        op_spawn_wait: \u001b[36m[Function: op_spawn_wait]\u001b[39m,\n",
       "        op_run_status: \u001b[36m[Function: op_run_status]\u001b[39m,\n",
       "        op_signal_poll: \u001b[36m[Function: op_signal_poll]\u001b[39m,\n",
       "        op_http_upgrade: \u001b[36m[Function: op_http_upgrade]\u001b[39m\n",
       "      },\n",
       "      callConsole: \u001b[36m[Function (anonymous)]\u001b[39m,\n",
       "      console: Object [console] {\n",
       "        debug: \u001b[36m[Function: debug]\u001b[39m,\n",
       "        error: \u001b[36m[Function: error]\u001b[39m,\n",
       "        info: \u001b[36m[Function: info]\u001b[39m,\n",
       "        log: \u001b[36m[Function: log]\u001b[39m,\n",
       "        warn: \u001b[36m[Function: warn]\u001b[39m,\n",
       "        dir: \u001b[36m[Function: dir]\u001b[39m,\n",
       "        dirxml: \u001b[36m[Function: dirxml]\u001b[39m,\n",
       "        table: \u001b[36m[Function: table]\u001b[39m,\n",
       "        trace: \u001b[36m[Function: trace]\u001b[39m,\n",
       "        group: \u001b[36m[Function: group]\u001b[39m,\n",
       "        groupCollapsed: \u001b[36m[Function: groupCollapsed]\u001b[39m,\n",
       "        groupEnd: \u001b[36m[Function: groupEnd]\u001b[39m,\n",
       "        clear: \u001b[36m[Function: clear]\u001b[39m,\n",
       "        count: \u001b[36m[Function: count]\u001b[39m,\n",
       "        countReset: \u001b[36m[Function: countReset]\u001b[39m,\n",
       "        assert: \u001b[36m[Function: assert]\u001b[39m,\n",
       "        profile: \u001b[36m[Function: profile]\u001b[39m,\n",
       "        profileEnd: \u001b[36m[Function: profileEnd]\u001b[39m,\n",
       "        time: \u001b[36m[Function: time]\u001b[39m,\n",
       "        timeLog: \u001b[36m[Function: timeLog]\u001b[39m,\n",
       "        timeEnd: \u001b[36m[Function: timeEnd]\u001b[39m,\n",
       "        timeStamp: \u001b[36m[Function: timeStamp]\u001b[39m,\n",
       "        context: \u001b[36m[Function: context]\u001b[39m\n",
       "      },\n",
       "      asyncStub: \u001b[36m[Function: asyncStub]\u001b[39m,\n",
       "      ensureFastOps: \u001b[36m[Function: ensureFastOps]\u001b[39m,\n",
       "      opAsync: \u001b[36m[Function: opAsync]\u001b[39m,\n",
       "      resources: \u001b[36m[Function: resources]\u001b[39m,\n",
       "      metrics: \u001b[36m[Function: metrics]\u001b[39m,\n",
       "      registerErrorBuilder: \u001b[36m[Function: registerErrorBuilder]\u001b[39m,\n",
       "      registerErrorClass: \u001b[36m[Function: registerErrorClass]\u001b[39m,\n",
       "      buildCustomError: \u001b[36m[Function: buildCustomError]\u001b[39m,\n",
       "      eventLoopTick: \u001b[36m[Function: eventLoopTick]\u001b[39m,\n",
       "      BadResource: \u001b[36m[class BadResource extends Error]\u001b[39m,\n",
       "      BadResourcePrototype: [Error],\n",
       "      Interrupted: \u001b[36m[class Interrupted extends Error]\u001b[39m,\n",
       "      InterruptedPrototype: [Error],\n",
       "      enableOpCallTracing: \u001b[36m[Function: enableOpCallTracing]\u001b[39m,\n",
       "      isOpCallTracingEnabled: \u001b[36m[Function: isOpCallTracingEnabled]\u001b[39m,\n",
       "      opCallTraces: SafeMap(0) [Map] {},\n",
       "      refOp: \u001b[36m[Function: refOp]\u001b[39m,\n",
       "      unrefOp: \u001b[36m[Function: unrefOp]\u001b[39m,\n",
       "      setReportExceptionCallback: \u001b[36m[Function: setReportExceptionCallback]\u001b[39m,\n",
       "      setPromiseHooks: \u001b[36m[Function: setPromiseHooks]\u001b[39m,\n",
       "      close: \u001b[36m[Function: op_close]\u001b[39m,\n",
       "      tryClose: \u001b[36m[Function: op_try_close]\u001b[39m,\n",
       "      read: \u001b[36m[Function: op_read]\u001b[39m,\n",
       "      readAll: \u001b[36m[Function: op_read_all]\u001b[39m,\n",
       "      write: \u001b[36m[Function: op_write]\u001b[39m,\n",
       "      writeAll: \u001b[36m[Function: op_write_all]\u001b[39m,\n",
       "      writeTypeError: \u001b[36m[Function: op_write_type_error]\u001b[39m,\n",
       "      readSync: \u001b[36m[Function: op_read_sync]\u001b[39m,\n",
       "      writeSync: \u001b[36m[Function: op_write_sync]\u001b[39m,\n",
       "      shutdown: \u001b[36m[Function: op_shutdown]\u001b[39m,\n",
       "      print: \u001b[36m[Function: print]\u001b[39m,\n",
       "      setMacrotaskCallback: \u001b[36m[Function: setMacrotaskCallback]\u001b[39m,\n",
       "      setNextTickCallback: \u001b[36m[Function: setNextTickCallback]\u001b[39m,\n",
       "      runMicrotasks: \u001b[36m[Function: runMicrotasks]\u001b[39m,\n",
       "      hasTickScheduled: \u001b[36m[Function: hasTickScheduled]\u001b[39m,\n",
       "      setHasTickScheduled: \u001b[36m[Function: setHasTickScheduled]\u001b[39m,\n",
       "      evalContext: \u001b[36m[Function: evalContext]\u001b[39m,\n",
       "      createHostObject: \u001b[36m[Function: createHostObject]\u001b[39m,\n",
       "      encode: \u001b[36m[Function: encode]\u001b[39m,\n",
       "      decode: \u001b[36m[Function: decode]\u001b[39m,\n",
       "      serialize: \u001b[36m[Function: serialize]\u001b[39m,\n",
       "      deserialize: \u001b[36m[Function: deserialize]\u001b[39m,\n",
       "      getPromiseDetails: \u001b[36m[Function: getPromiseDetails]\u001b[39m,\n",
       "      getProxyDetails: \u001b[36m[Function: getProxyDetails]\u001b[39m,\n",
       "      isProxy: \u001b[36m[Function: isProxy]\u001b[39m,\n",
       "      memoryUsage: \u001b[36m[Function: memoryUsage]\u001b[39m,\n",
       "      setWasmStreamingCallback: \u001b[36m[Function: setWasmStreamingCallback]\u001b[39m,\n",
       "      abortWasmStreaming: \u001b[36m[Function: abortWasmStreaming]\u001b[39m,\n",
       "      destructureError: \u001b[36m[Function: destructureError]\u001b[39m,\n",
       "      opNames: \u001b[36m[Function: opNames]\u001b[39m,\n",
       "      eventLoopHasMoreWork: \u001b[36m[Function: eventLoopHasMoreWork]\u001b[39m,\n",
       "      setPromiseRejectCallback: \u001b[36m[Function: setPromiseRejectCallback]\u001b[39m,\n",
       "      byteLength: \u001b[36m[Function: byteLength]\u001b[39m,\n",
       "      build: {\n",
       "        target: \u001b[32m\"aarch64-apple-darwin\"\u001b[39m,\n",
       "        arch: \u001b[32m\"aarch64\"\u001b[39m,\n",
       "        os: \u001b[32m\"darwin\"\u001b[39m,\n",
       "        vendor: \u001b[32m\"apple\"\u001b[39m,\n",
       "        env: \u001b[90mundefined\u001b[39m\n",
       "      },\n",
       "      setBuildInfo: \u001b[36m[Function: setBuildInfo]\u001b[39m,\n",
       "      prepareStackTrace: \u001b[36m[Function: prepareStackTrace]\u001b[39m\n",
       "    }\n",
       "  }\n",
       "}"
      ]
     },
     "execution_count": 12,
     "metadata": {},
     "output_type": "execute_result"
    }
   ],
   "source": [
    "Deno"
   ]
  },
  {
   "attachments": {},
   "cell_type": "markdown",
   "id": "6caeb583",
   "metadata": {
    "hidden": true
   },
   "source": [
    "#### resolve returned promise"
   ]
  },
  {
   "cell_type": "code",
   "execution_count": 13,
   "id": "43c1581b",
   "metadata": {
    "hidden": true
   },
   "outputs": [
    {
     "data": {
      "text/plain": [
       "Promise { \u001b[32m\"it worked!\"\u001b[39m }"
      ]
     },
     "execution_count": 13,
     "metadata": {},
     "output_type": "execute_result"
    }
   ],
   "source": [
    "Promise.resolve(\"it worked!\")"
   ]
  },
  {
   "cell_type": "code",
   "execution_count": 14,
   "id": "9a34b725",
   "metadata": {
    "hidden": true
   },
   "outputs": [
    {
     "data": {
      "text/plain": [
       "Promise {\n",
       "  \u001b[36m<rejected>\u001b[39m Error: it failed!\n",
       "    at <anonymous>:2:16\n",
       "}"
      ]
     },
     "execution_count": 14,
     "metadata": {},
     "output_type": "execute_result"
    }
   ],
   "source": [
    "Promise.reject(new Error(\"it failed!\"));"
   ]
  },
  {
   "cell_type": "code",
   "execution_count": null,
   "id": "b5c7b819",
   "metadata": {
    "scrolled": true
   },
   "outputs": [
    {
     "ename": "\"Error\"",
     "evalue": "Error: this is a test",
     "output_type": "error",
     "traceback": [
      "Error: this is a test",
      "    at foo (<anonymous>:3:11)",
      "    at <anonymous>:4:3"
     ]
    }
   ],
   "source": [
    "(function foo() {\n",
    "    throw new Error(\"this is a test\")\n",
    "})()"
   ]
  },
  {
   "cell_type": "code",
   "execution_count": 14,
   "id": "72d01fdd",
   "metadata": {},
   "outputs": [
    {
     "data": {
      "text/plain": [
       "Promise {\n",
       "  \u001b[31m<rejected>\u001b[39m TypeError: Error parsing args: serde_v8 error: ExpectedString\n",
       "    at Object.opAsync (deno:core/01_core.js:141:28)\n",
       "    at open (deno:runtime/js/40_files.js:51:28)\n",
       "    at Object.readFile (deno:runtime/js/40_read_file.js:25:24)\n",
       "    at <anonymous>:2:6\n",
       "}"
      ]
     },
     "execution_count": 14,
     "metadata": {},
     "output_type": "execute_result"
    }
   ],
   "source": [
    "Deno.readFile(1)"
   ]
  },
  {
   "cell_type": "code",
   "execution_count": 1,
   "id": "0d2c6eaa",
   "metadata": {},
   "outputs": [
    {
     "data": {
      "text/plain": [
       "\u001b[90mundefined\u001b[39m"
      ]
     },
     "execution_count": 1,
     "metadata": {},
     "output_type": "execute_result"
    },
    {
     "name": "stdout",
     "output_type": "stream",
     "text": [
      "[ \u001b[32m\"users\"\u001b[39m, \u001b[32m\"alice\"\u001b[39m ]\n",
      "{ name: \u001b[32m\"Alice\"\u001b[39m }\n"
     ]
    }
   ],
   "source": [
    "// Open the default database for the script.\n",
    "const kv = await Deno.openKv();\n",
    "\n",
    "// Persist an object at the users/alice key.\n",
    "await kv.set([\"users\", \"alice\"], { name: \"Alice\" });\n",
    "\n",
    "// Read back this key.\n",
    "const res = await kv.get([\"users\", \"alice\"]);\n",
    "console.log(res.key); // [ \"users\", \"alice\" ]\n",
    "console.log(res.value); // { name: \"Alice\" }"
   ]
  },
  {
   "cell_type": "code",
   "execution_count": 2,
   "id": "a761bd6c-1eb0-4171-80e9-75e3710cef27",
   "metadata": {},
   "outputs": [
    {
     "data": {
      "text/plain": [
       "\u001b[90mundefined\u001b[39m"
      ]
     },
     "execution_count": 2,
     "metadata": {},
     "output_type": "execute_result"
    },
    {
     "name": "stdout",
     "output_type": "stream",
     "text": [
      "[ \u001b[32m\"users\"\u001b[39m, \u001b[32m\"alice\"\u001b[39m ]\n",
      "{ name: \u001b[32m\"Alice\"\u001b[39m }\n"
     ]
    }
   ],
   "source": [
    "const res2 = await kv.get([\"users\", \"alice\"]);\n",
    "console.log(res2.key); // [ \"users\", \"alice\" ]\n",
    "console.log(res2.value); // null"
   ]
  },
  {
   "cell_type": "code",
   "execution_count": 6,
   "id": "08976272-4a23-4371-a253-6cd9c9a1caab",
   "metadata": {},
   "outputs": [
    {
     "data": {},
     "execution_count": 6,
     "metadata": {},
     "output_type": "execute_result"
    }
   ],
   "source": [
    "const id = \"swift-fish-98\";\n",
    "const deployPreview = {\n",
    "  id,\n",
    "  [Symbol.for(\"Jupyter.display\")]() {\n",
    "      return {\n",
    "          \"text/plain\": `Preview URL: https://${id}.deno.dev/`,\n",
    "          \"text/html\": `<iframe src=\"https://dash.deno.com/playground/fastify-server-playground\"></iframe>`\n",
    "      };\n",
    "  }\n",
    "};"
   ]
  },
  {
   "cell_type": "code",
   "execution_count": null,
   "id": "d903b09c-7094-45d0-b876-2652c94255c2",
   "metadata": {},
   "outputs": [],
   "source": []
  }
 ],
 "metadata": {
  "kernelspec": {
   "display_name": "Deno",
   "language": "typescript",
   "name": "deno"
  },
  "language_info": {
   "file_extension": ".ts",
   "mimetype": "text/x.typescript",
   "name": "typescript",
   "nb_converter": "script",
   "pygments_lexer": "typescript",
   "version": "5.2.2"
  },
  "toc": {
   "base_numbering": 1,
   "nav_menu": {},
   "number_sections": true,
   "sideBar": true,
   "skip_h1_title": false,
   "title_cell": "Table of Contents",
   "title_sidebar": "Contents",
   "toc_cell": false,
   "toc_position": {},
   "toc_section_display": true,
   "toc_window_display": true
  }
 },
 "nbformat": 4,
 "nbformat_minor": 5
}
