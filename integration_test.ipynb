{
 "cells": [
  {
   "cell_type": "markdown",
   "id": "182aef1d",
   "metadata": {},
   "source": [
    "# Integration Tests for Deno Jupyter\n",
    "This notebook contains a number of tests to ensure that Jupyter is working as expected. You should be able to select \"Kernel->Restart and Run All\" in Jupyter's notebook UI to run the tests. The first section of tests named \"Passing Tests\" should pass. The second set of tests \"Failing Tests\" should fail. When in doubt, refer to the currently committed notebook file to make sure tests pass."
   ]
  },
  {
   "cell_type": "markdown",
   "id": "d7705d88",
   "metadata": {},
   "source": [
    "## Passing Tests"
   ]
  },
  {
   "cell_type": "markdown",
   "id": "669f972e",
   "metadata": {},
   "source": [
    "### Simple Tests"
   ]
  },
  {
   "cell_type": "markdown",
   "id": "e7e8a512",
   "metadata": {},
   "source": [
    "#### This test should print \"hi\".\n",
    "If this doesn't work, everything else will probably fail :)"
   ]
  },
  {
   "cell_type": "code",
   "execution_count": 1,
   "id": "a5d38758",
   "metadata": {},
   "outputs": [
    {
     "name": "stdout",
     "output_type": "stream",
     "text": [
      "hi\n"
     ]
    }
   ],
   "source": [
    "console.log(\"hi\")"
   ]
  },
  {
   "cell_type": "markdown",
   "id": "eaa0ebc0",
   "metadata": {},
   "source": [
    "### Return Values"
   ]
  },
  {
   "cell_type": "markdown",
   "id": "52876276",
   "metadata": {},
   "source": [
    "#### undefined should not return a value"
   ]
  },
  {
   "cell_type": "code",
   "execution_count": 4,
   "id": "bbf2c09b",
   "metadata": {},
   "outputs": [],
   "source": [
    "undefined"
   ]
  },
  {
   "cell_type": "markdown",
   "id": "e175c803",
   "metadata": {},
   "source": [
    "#### null should return \"null\""
   ]
  },
  {
   "cell_type": "code",
   "execution_count": 6,
   "id": "d9801d80",
   "metadata": {},
   "outputs": [
    {
     "data": {
      "application/json": null,
      "text/plain": [
       "null"
      ]
     },
     "execution_count": 6,
     "metadata": {},
     "output_type": "execute_result"
    }
   ],
   "source": [
    "null"
   ]
  },
  {
   "cell_type": "markdown",
   "id": "a2a716dc",
   "metadata": {},
   "source": [
    "#### boolean should return the boolean"
   ]
  },
  {
   "cell_type": "code",
   "execution_count": 7,
   "id": "cfaac330",
   "metadata": {},
   "outputs": [
    {
     "data": {
      "application/json": true,
      "text/plain": [
       "true"
      ]
     },
     "execution_count": 7,
     "metadata": {},
     "output_type": "execute_result"
    }
   ],
   "source": [
    "true"
   ]
  },
  {
   "cell_type": "markdown",
   "id": "8d9f1aba",
   "metadata": {},
   "source": [
    "#### number should return the number"
   ]
  },
  {
   "cell_type": "code",
   "execution_count": 8,
   "id": "ec3be2da",
   "metadata": {},
   "outputs": [
    {
     "data": {
      "application/json": 42,
      "text/plain": [
       "42"
      ]
     },
     "execution_count": 8,
     "metadata": {},
     "output_type": "execute_result"
    }
   ],
   "source": [
    "42"
   ]
  },
  {
   "cell_type": "markdown",
   "id": "60965915",
   "metadata": {},
   "source": [
    "#### string should return the string"
   ]
  },
  {
   "cell_type": "code",
   "execution_count": 9,
   "id": "997cf2d7",
   "metadata": {},
   "outputs": [
    {
     "data": {
      "application/json": "this is a test of the emergency broadcast system",
      "text/plain": [
       "this is a test of the emergency broadcast system"
      ]
     },
     "execution_count": 9,
     "metadata": {},
     "output_type": "execute_result"
    }
   ],
   "source": [
    "\"this is a test of the emergency broadcast system\""
   ]
  },
  {
   "cell_type": "markdown",
   "id": "fe38dc27",
   "metadata": {},
   "source": [
    "#### bigint should return the bigint in literal format"
   ]
  },
  {
   "cell_type": "code",
   "execution_count": 10,
   "id": "44b63807",
   "metadata": {},
   "outputs": [
    {
     "data": {
      "application/json": "31337n",
      "text/plain": [
       "31337n"
      ]
     },
     "execution_count": 10,
     "metadata": {},
     "output_type": "execute_result"
    }
   ],
   "source": [
    "31337n"
   ]
  },
  {
   "cell_type": "markdown",
   "id": "843ccb6c",
   "metadata": {},
   "source": [
    "#### symbol should return a string describing the symbol"
   ]
  },
  {
   "cell_type": "code",
   "execution_count": 11,
   "id": "e10c0d31",
   "metadata": {},
   "outputs": [
    {
     "data": {
      "application/json": "Symbol(foo)",
      "text/plain": [
       "Symbol(foo)"
      ]
     },
     "execution_count": 11,
     "metadata": {},
     "output_type": "execute_result"
    }
   ],
   "source": [
    "Symbol(\"foo\")"
   ]
  },
  {
   "cell_type": "markdown",
   "id": "171b817f",
   "metadata": {},
   "source": [
    "#### object should describe the object inspection"
   ]
  },
  {
   "cell_type": "code",
   "execution_count": 12,
   "id": "81c99233",
   "metadata": {},
   "outputs": [
    {
     "data": {
      "application/json": "Object",
      "text/plain": [
       "Object"
      ]
     },
     "execution_count": 12,
     "metadata": {},
     "output_type": "execute_result"
    }
   ],
   "source": [
    "{foo: \"bar\"}"
   ]
  },
  {
   "cell_type": "code",
   "execution_count": 13,
   "id": "c065ff3d",
   "metadata": {},
   "outputs": [
    {
     "data": {
      "application/json": "Object",
      "text/plain": [
       "Object"
      ]
     },
     "execution_count": 13,
     "metadata": {},
     "output_type": "execute_result"
    }
   ],
   "source": [
    "Deno"
   ]
  },
  {
   "cell_type": "markdown",
   "id": "3a89dada",
   "metadata": {},
   "source": [
    "#### object with Symbol(\"toPng\") should return an image"
   ]
  },
  {
   "cell_type": "markdown",
   "id": "3b6d484c",
   "metadata": {},
   "source": [
    "## Failing Tests"
   ]
  },
  {
   "cell_type": "markdown",
   "id": "ed389024",
   "metadata": {},
   "source": [
    "### prints an error message and stack trace"
   ]
  },
  {
   "cell_type": "code",
   "execution_count": null,
   "id": "b5c7b819",
   "metadata": {},
   "outputs": [
    {
     "ename": "\"Error\"",
     "evalue": "Error: this is a test",
     "output_type": "error",
     "traceback": [
      "Error: this is a test",
      "    at foo (<anonymous>:3:11)",
      "    at <anonymous>:4:3"
     ]
    }
   ],
   "source": [
    "(function foo() {\n",
    "    throw new Error(\"this is a test\")\n",
    "})()"
   ]
  }
 ],
 "metadata": {
  "kernelspec": {
   "display_name": "Deno (Rust)",
   "language": "typescript",
   "name": "rusty_deno"
  },
  "language_info": {
   "file_extension": ".ts",
   "mimetype": "text/x.typescript",
   "name": "typescript",
   "version": "4.5.2"
  },
  "toc": {
   "base_numbering": 1,
   "nav_menu": {},
   "number_sections": true,
   "sideBar": true,
   "skip_h1_title": false,
   "title_cell": "Table of Contents",
   "title_sidebar": "Contents",
   "toc_cell": false,
   "toc_position": {},
   "toc_section_display": true,
   "toc_window_display": false
  }
 },
 "nbformat": 4,
 "nbformat_minor": 5
}
