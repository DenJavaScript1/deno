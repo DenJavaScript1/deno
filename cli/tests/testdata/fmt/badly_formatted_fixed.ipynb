{
  "cells": [
    {
      "cell_type": "markdown",
      "source": [
        "# Hello Markdown\n",
        "\n",
        "this isn't formatted properly\n"
      ],
      "metadata": {}
    },
    {
      "cell_type": "code",
      "source": [
        "console.log(\"Hello World\");\n"
      ],
      "execution_count": 1,
      "metadata": {},
      "outputs": [
        {
          "name": "stdout",
          "output_type": "stream",
          "text": [
            "Hello World\n"
          ]
        }
      ]
    },
    {
      "cell_type": "code",
      "source": [
        "function hello(name: string) {\n",
        "  console.log(name);\n",
        "}\n",
        "\n",
        "hello(\"alice\");\n"
      ],
      "execution_count": 2,
      "metadata": {},
      "outputs": [
        {
          "name": "stdout",
          "output_type": "stream",
          "text": [
            "alice\n"
          ]
        }
      ]
    },
    {
      "cell_type": "code",
      "source": [
        "function foo(): number {\n",
        "  return 2;\n",
        "}\n"
      ],
      "execution_count": 3,
      "metadata": {},
      "outputs": []
    }
  ],
  "metadata": {
    "language_info": {
      "name": "typescript",
      "file_extension": ".ts",
      "mimetype": "text/x.typescript",
      "nb_converter": "script",
      "pygments_lexer": "typescript",
      "version": "5.2.2"
    },
    "kernelspec": {
      "display_name": "Deno",
      "language": "typescript",
      "name": "deno"
    }
  },
  "nbformat": 4,
  "nbformat_minor": 2
}